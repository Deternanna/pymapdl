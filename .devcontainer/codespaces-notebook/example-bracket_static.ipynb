{
  "cells": [
    {
      "cell_type": "markdown",
      "metadata": {},
      "source": [
        "Static analysis of a corner bracket {#ref_static_analysis_bracket}\n",
        "===================================\n",
        "\n",
        "This is an example adapted from a classic Ansys APDL tutorial [Static\n",
        "Analysis of a Corner\n",
        "Bracket](https://ansyshelp.ansys.com/account/Secured?returnurl=/Views/Secured/corp/v231/en/ans_tut/structural_cb.html)\n",
        "\n",
        "Problem specification\n",
        "---------------------\n",
        "\n",
        "  --------------- --------------------------------------------------------\n",
        "  Applicable      Ansys Multiphysics, Ansys Mechanical, Ansys Structural\n",
        "  Products:       \n",
        "\n",
        "  Level of        Easy\n",
        "  Difficulty:     \n",
        "\n",
        "  Interactive     60 to 90 minutes\n",
        "  Time Required:  \n",
        "\n",
        "  Discipline:     Structural\n",
        "\n",
        "  Analysis Type:  Linear static\n",
        "\n",
        "  Element Types   [PLANE183](https://ansyshelp.ansys.com/account/Secured?returnurl=/Views/Secured/corp/v231/en/ans_elem/Hlp_E_PLANE183.html)\n",
        "  Used:           \n",
        "\n",
        "  Features        Solid modeling including primitives, boolean operations,\n",
        "  Demonstrated:   and fillets; tapered pressure load deformed shape and\n",
        "                  stress displays; listing of reaction forces;\n",
        "\n",
        "  Help Resources: Structural Static Analysis and [PLANE183](https://ansyshelp.ansys.com/account/Secured?returnurl=/Views/Secured/corp/v231/en/ans_elem/Hlp_E_PLANE183.html)\n",
        "  --------------- --------------------------------------------------------\n",
        "\n",
        "Problem description\n",
        "-------------------\n",
        "\n",
        "This is a simple, single-load-step, structural static analysis of a\n",
        "corner angle bracket. The upper-left pin hole is constrained (welded)\n",
        "around its entire circumference, and a tapered pressure load is applied\n",
        "to the bottom of the lower-right pin hole. The US customary system of\n",
        "units is used. The objective is to demonstrate how Mechanical APDL is\n",
        "typical used in an analysis.\n",
        "\n",
        "### Bracket model\n",
        "\n",
        "The dimensions of the corner bracket are shown in the following figure.\n",
        "The bracket is made of A36 steel with a Young\\'s modulus of $3\\cdot10^7$\n",
        "psi and Poisson\\'s ratio of $0.27$.\n",
        "\n",
        "![**Bracket model\n",
        "dimensions**](https://github.com/ansys/pymapdl/blob/main/doc/source/images/bracket_dimensions.png?raw=true)\n",
        "\n",
        "### Approach and assumptions\n",
        "\n",
        "Because the bracket is thin in the z direction (1/2-inch thickness)\n",
        "compared to its x and y dimensions, and because the pressure load acts\n",
        "only in the x-y plane, assume plane stress for the analysis.\n",
        "\n",
        "The approach is to use solid modeling to generate the 2D model and\n",
        "automatically mesh it with nodes and elements. An alternative approach\n",
        "would be to create the nodes and elements directly.\n"
      ]
    },
    {
      "cell_type": "markdown",
      "metadata": {},
      "source": [
        "Launching MAPDL\n",
        "===============\n"
      ]
    },
    {
      "cell_type": "code",
      "execution_count": 1,
      "metadata": {
        "collapsed": false
      },
      "outputs": [
        {
          "ename": "LicenseServerConnectionError",
          "evalue": "Exceeded 10 seconds while waiting for /home/mapdl/.ansys/licdebug.13e1d288b5c5.FEAT_ANSYS.241.out to exist.",
          "output_type": "error",
          "traceback": [
            "\u001b[0;31m---------------------------------------------------------------------------\u001b[0m",
            "\u001b[0;31mMapdlDidNotStart\u001b[0m                          Traceback (most recent call last)",
            "File \u001b[0;32m~/.venv/lib/python3.10/site-packages/ansys/mapdl/core/launcher.py:536\u001b[0m, in \u001b[0;36mlaunch_grpc\u001b[0;34m(exec_file, jobname, nproc, ram, run_location, port, ip, additional_switches, override, timeout, verbose, add_env_vars, replace_env_vars, **kwargs)\u001b[0m\n\u001b[1;32m    535\u001b[0m         LOG\u001b[38;5;241m.\u001b[39mdebug(\u001b[38;5;124m\"\u001b[39m\u001b[38;5;124mChecking if gRPC server is alive.\u001b[39m\u001b[38;5;124m\"\u001b[39m)\n\u001b[0;32m--> 536\u001b[0m         \u001b[43m_check_server_is_alive\u001b[49m\u001b[43m(\u001b[49m\u001b[43mstdout_queue\u001b[49m\u001b[43m,\u001b[49m\u001b[43m \u001b[49m\u001b[43mrun_location\u001b[49m\u001b[43m,\u001b[49m\u001b[43m \u001b[49m\u001b[43mtimeout\u001b[49m\u001b[43m)\u001b[49m\n\u001b[1;32m    538\u001b[0m \u001b[38;5;28;01mexcept\u001b[39;00m MapdlDidNotStart \u001b[38;5;28;01mas\u001b[39;00m e:\n",
            "File \u001b[0;32m~/.venv/lib/python3.10/site-packages/ansys/mapdl/core/launcher.py:602\u001b[0m, in \u001b[0;36m_check_server_is_alive\u001b[0;34m(stdout_queue, run_location, timeout)\u001b[0m\n\u001b[1;32m    601\u001b[0m \u001b[38;5;28;01melse\u001b[39;00m:\n\u001b[0;32m--> 602\u001b[0m     \u001b[38;5;28;01mraise\u001b[39;00m MapdlDidNotStart(\n\u001b[1;32m    603\u001b[0m         \u001b[38;5;124mf\u001b[39m\u001b[38;5;124m\"\u001b[39m\u001b[38;5;124mMAPDL failed to start the gRPC server.\u001b[39m\u001b[38;5;130;01m\\n\u001b[39;00m\u001b[38;5;124mCheck the run location: \u001b[39m\u001b[38;5;124m'\u001b[39m\u001b[38;5;132;01m{\u001b[39;00mrun_location\u001b[38;5;132;01m}\u001b[39;00m\u001b[38;5;124m'\u001b[39m\u001b[38;5;124m).\u001b[39m\u001b[38;5;130;01m\\n\u001b[39;00m\u001b[38;5;124m\"\u001b[39m\n\u001b[1;32m    604\u001b[0m         \u001b[38;5;124mf\u001b[39m\u001b[38;5;124m\"\u001b[39m\u001b[38;5;124mThe full terminal output is:\u001b[39m\u001b[38;5;130;01m\\n\u001b[39;00m\u001b[38;5;130;01m\\n\u001b[39;00m\u001b[38;5;124m\"\u001b[39m \u001b[38;5;241m+\u001b[39m terminal_output\n\u001b[1;32m    605\u001b[0m     )\n",
            "\u001b[0;31mMapdlDidNotStart\u001b[0m: MAPDL failed to start the gRPC server.\nCheck the run location: '/tmp/ansys_nctwymvlfw').\nThe full terminal output is:\n\nBeta activation of the GRPC server.Ansys Mechanical Enterprise Academic Student      \n\n\n\n\n\n *------------------------------------------------------------------*\n\n |                                                                  |\n\n |   W E L C O M E   T O   T H E   A N S Y S (R)  P R O G R A M     |\n\n |                                                                  |\n\n *------------------------------------------------------------------*\n\n\n\n\n\n\n\n\n\n ***************************************************************\n\n *         ANSYS MAPDL                  LEGAL NOTICES          *\n\n ***************************************************************\n\n *                                                             *\n\n * Copyright 1971-2024 Ansys, Inc.  All rights reserved.       *\n\n * Unauthorized use, distribution or duplication is            *\n\n * prohibited.                                                 *\n\n *                                                             *\n\n * Ansys is a registered trademark of Ansys, Inc. or its       *\n\n * subsidiaries in the United States or other countries.       *\n\n * See the Ansys, Inc. online documentation or the Ansys, Inc. *\n\n * documentation CD or online help for the complete Legal      *\n\n * Notice.                                                     *\n\n *                                                             *\n\n ***************************************************************\n\n *                                                             *\n\n * THIS ANSYS SOFTWARE PRODUCT AND PROGRAM DOCUMENTATION       *\n\n * INCLUDE TRADE SECRETS AND CONFIDENTIAL AND PROPRIETARY      *\n\n * PRODUCTS OF ANSYS, INC., ITS SUBSIDIARIES, OR LICENSORS.    *\n\n * The software products and documentation are furnished by    *\n\n * Ansys, Inc. or its subsidiaries under a software license    *\n\n * agreement that contains provisions concerning               *\n\n * non-disclosure, copying, length and nature of use,          *\n\n * compliance with exporting laws, warranties, disclaimers,    *\n\n * limitations of liability, and remedies, and other           *\n\n * provisions.  The software products and documentation may be *\n\n * used, disclosed, transferred, or copied only in accordance  *\n\n * with the terms and conditions of that software license      *\n\n * agreement.                                                  *\n\n *                                                             *\n\n * Ansys, Inc. is a UL registered                              *\n\n * ISO 9001:2015 company.                                      *\n\n *                                                             *\n\n ***************************************************************\n\n *                                                             *\n\n * This product is subject to U.S. laws governing export and   *\n\n * re-export.                                                  *\n\n *                                                             *\n\n * For U.S. Government users, except as specifically granted   *\n\n * by the Ansys, Inc. software license agreement, the use,     *\n\n * duplication, or disclosure by the United States Government  *\n\n * is subject to restrictions stated in the Ansys, Inc.        *\n\n * software license agreement and FAR 12.212 (for non-DOD      *\n\n * licenses).                                                  *\n\n *                                                             *\n\n ***************************************************************\n\n\n\n\n\n *** WARNING ***                         CP =       0.115   TIME= 11:52:16\n\n MISSING DOCUMENTATION FILE                                              \n\n  DOCU LIST FILE = /ansys_inc/v241/ansys/gui/en-us/                      \n\n  MISSING FILE NAME = /__w/mapdl-docker-image-builder/.                  \n\n\n\n\n\n          *****  MAPDL COMMAND LINE ARGUMENTS  *****\n\n  INITIAL JOBNAME              = bracket                                                                                                                                                                                                                                                 \n\n       2 PARALLEL PROCESSES REQUESTED WITH SINGLE THREAD PER PROCESS\n\n    TOTAL OF     2 CORES REQUESTED\n\n\n\n PARAMETER STATUS-           (   1 PARAMETERS DEFINED)\n\n\n\n NAME                              VALUE                        TYPE\n\n PORT                              50052.0000                    SCALAR\n\n\n\n RELEASE=                      BUILD= 24.1      UP20231106   VERSION=LINUX x64   \n\n CURRENT JOBNAME=bracket0  11:52:16  JAN 18, 2024 CP=      0.117\n\n\n\n\n\n RUN SETUP PROCEDURE FROM FILE= /ansys_inc/v241/ansys/apdl/start.ans*** FATAL ***                           CP =       0.125   TIME= 11:52:17\n\n The requested number of distributed-memory processes (2) exceeds the    \n\n number of physical processors that are available (1) on machine:        \n\n 13e1d288b5c5.  The use of virtual processors is not recommended.  It    \n\n is required that you use a maximum of 1 distributed-memory processes    \n\n on this machine.                                                        \n\n\n\n ************************************************************************\n\n The above error is non-recoverable by ANSYS                             \n\n  ANSYS run terminated by the indicated error                            \n\n  Current data base saved if possible.                                   \n\n ************************************************************************\n\n\n\n DATA INPUT WRITTEN ON /tmp/ansys_nctwymvlfw/bracket0.log                                                                                                                                                                                                                                  \n\n\n\n+--------------------- M A P D L   S T A T I S T I C S ------------------------+\n\n\n\nRelease:                    Build: 24.1       Update: UP20231106   Platform: LINUX x64   \n\nDate Run: 01/18/2024   Time: 11:52     Process ID: 2598\n\nOperating System: Ubuntu 22.04.3 LTS\n\n\n\nProcessor Model: AMD EPYC 7763 64-Core Processor\n\n\n\nCompiler: Intel(R) Fortran Compiler Classic Version 2021.9  (Build: 20230302)\n\n          Intel(R) C/C++ Compiler Classic Version 2021.9  (Build: 20230302)\n\n          Intel(R) Math Kernel Library Version 2020.0.0 Product Build 20191122\n\n          BLAS Library supplied by AMD BLIS\n\n \n\nNumber of processes requested           :    2\n\nNumber of threads per process requested :    1\n\nTotal number of cores requested         :    2 (Distributed Memory Parallel)               \n\nMPI Type: INTELMPI\n\nMPI Version: Intel(R) MPI Library 2021.10 for Linux* OS\n\n\n\n\n\nGPU Acceleration: Not Requested\n\n\n\nJob Name: bracket0\n\n\n\n  Core                Machine Name   Working Directory\n\n -----------------------------------------------------\n\n     0                13e1d288b5c5   /tmp/ansys_nctwymvlfw\n\n     1                13e1d288b5c5   /tmp/ansys_nctwymvlfw\n\n \n\n \n\n\n\nTotal CPU time for main thread                    :        0.6 seconds\n\nTotal CPU time summed for all threads             :        0.1 seconds\n\n\n\nElapsed time spent obtaining a license            :        2.6 seconds\n\nElapsed time spent pre-processing model (/PREP7)  :        0.0 seconds\n\nElapsed time spent solution - preprocessing       :        0.0 seconds\n\nElapsed time spent computing solution             :        0.0 seconds\n\nElapsed time spent solution - postprocessing      :        0.0 seconds\n\nElapsed time spent post-processing model (/POST1) :        0.0 seconds\n\n \n\n\n\n+------------------ E N D   M A P D L   S T A T I S T I C S -------------------+\n\n\n\n\n\n *-----------------------------------------------------------------------------*\n\n |                                                                             |\n\n |                               RUN COMPLETED                                 |\n\n |                                                                             |\n\n |-----------------------------------------------------------------------------|\n\n |                                                                             |\n\n |  Ansys MAPDL                 Build 24.1         UP20231106    LINUX x64     |\n\n |                                                                             |\n\n |-----------------------------------------------------------------------------|\n\n |                                                                             |\n\n |  Database Requested(-db)  1024 MB     Scratch Memory Requested      1024 MB |\n\n |  Maximum Database Used       1 MB     Maximum Scratch Memory Used      1 MB |\n\n |                                                                             |\n\n |-----------------------------------------------------------------------------|\n\n |                                                                             |\n\n |        CP Time      (sec) =          0.136       Time  =  11:52:17          |\n\n |        Elapsed Time (sec) =          5.000       Date  =  01/18/2024        |\n\n |                                                                             |\n\n *-----------------------------------------------------------------------------*",
            "\nThe above exception was the direct cause of the following exception:\n",
            "\u001b[0;31mMapdlDidNotStart\u001b[0m                          Traceback (most recent call last)",
            "File \u001b[0;32m~/.venv/lib/python3.10/site-packages/ansys/mapdl/core/launcher.py:1605\u001b[0m, in \u001b[0;36mlaunch_mapdl\u001b[0;34m(exec_file, run_location, jobname, nproc, ram, mode, override, loglevel, additional_switches, start_timeout, port, cleanup_on_exit, start_instance, ip, clear_on_connect, log_apdl, remove_temp_files, remove_temp_dir_on_exit, verbose_mapdl, license_server_check, license_type, print_com, add_env_vars, replace_env_vars, version, **kwargs)\u001b[0m\n\u001b[1;32m   1604\u001b[0m \u001b[38;5;28;01melif\u001b[39;00m mode \u001b[38;5;241m==\u001b[39m \u001b[38;5;124m\"\u001b[39m\u001b[38;5;124mgrpc\u001b[39m\u001b[38;5;124m\"\u001b[39m:\n\u001b[0;32m-> 1605\u001b[0m     port, actual_run_location, process \u001b[38;5;241m=\u001b[39m \u001b[43mlaunch_grpc\u001b[49m\u001b[43m(\u001b[49m\n\u001b[1;32m   1606\u001b[0m \u001b[43m        \u001b[49m\u001b[43mport\u001b[49m\u001b[38;5;241;43m=\u001b[39;49m\u001b[43mport\u001b[49m\u001b[43m,\u001b[49m\n\u001b[1;32m   1607\u001b[0m \u001b[43m        \u001b[49m\u001b[43mip\u001b[49m\u001b[38;5;241;43m=\u001b[39;49m\u001b[43mip\u001b[49m\u001b[43m,\u001b[49m\n\u001b[1;32m   1608\u001b[0m \u001b[43m        \u001b[49m\u001b[43madd_env_vars\u001b[49m\u001b[38;5;241;43m=\u001b[39;49m\u001b[43madd_env_vars\u001b[49m\u001b[43m,\u001b[49m\n\u001b[1;32m   1609\u001b[0m \u001b[43m        \u001b[49m\u001b[43mreplace_env_vars\u001b[49m\u001b[38;5;241;43m=\u001b[39;49m\u001b[43mreplace_env_vars\u001b[49m\u001b[43m,\u001b[49m\n\u001b[1;32m   1610\u001b[0m \u001b[43m        \u001b[49m\u001b[43mverbose\u001b[49m\u001b[38;5;241;43m=\u001b[39;49m\u001b[43mverbose_mapdl\u001b[49m\u001b[43m,\u001b[49m\n\u001b[1;32m   1611\u001b[0m \u001b[43m        \u001b[49m\u001b[38;5;241;43m*\u001b[39;49m\u001b[38;5;241;43m*\u001b[39;49m\u001b[43mstart_parm\u001b[49m\u001b[43m,\u001b[49m\n\u001b[1;32m   1612\u001b[0m \u001b[43m    \u001b[49m\u001b[43m)\u001b[49m\n\u001b[1;32m   1613\u001b[0m     mapdl \u001b[38;5;241m=\u001b[39m MapdlGrpc(\n\u001b[1;32m   1614\u001b[0m         ip\u001b[38;5;241m=\u001b[39mip,\n\u001b[1;32m   1615\u001b[0m         port\u001b[38;5;241m=\u001b[39mport,\n\u001b[0;32m   (...)\u001b[0m\n\u001b[1;32m   1622\u001b[0m         \u001b[38;5;241m*\u001b[39m\u001b[38;5;241m*\u001b[39mstart_parm,\n\u001b[1;32m   1623\u001b[0m     )\n",
            "File \u001b[0;32m~/.venv/lib/python3.10/site-packages/ansys/mapdl/core/launcher.py:540\u001b[0m, in \u001b[0;36mlaunch_grpc\u001b[0;34m(exec_file, jobname, nproc, ram, run_location, port, ip, additional_switches, override, timeout, verbose, add_env_vars, replace_env_vars, **kwargs)\u001b[0m\n\u001b[1;32m    539\u001b[0m     terminal_output \u001b[38;5;241m=\u001b[39m \u001b[38;5;124m\"\u001b[39m\u001b[38;5;130;01m\\n\u001b[39;00m\u001b[38;5;124m\"\u001b[39m\u001b[38;5;241m.\u001b[39mjoin(_get_std_output(std_queue\u001b[38;5;241m=\u001b[39mstdout_queue))\u001b[38;5;241m.\u001b[39mstrip()\n\u001b[0;32m--> 540\u001b[0m     \u001b[38;5;28;01mraise\u001b[39;00m MapdlDidNotStart(\n\u001b[1;32m    541\u001b[0m         \u001b[38;5;28mstr\u001b[39m(e) \u001b[38;5;241m+\u001b[39m \u001b[38;5;124m\"\u001b[39m\u001b[38;5;130;01m\\n\u001b[39;00m\u001b[38;5;130;01m\\n\u001b[39;00m\u001b[38;5;124m\"\u001b[39m \u001b[38;5;241m+\u001b[39m \u001b[38;5;124m\"\u001b[39m\u001b[38;5;124mThe full terminal output is:\u001b[39m\u001b[38;5;130;01m\\n\u001b[39;00m\u001b[38;5;130;01m\\n\u001b[39;00m\u001b[38;5;124m\"\u001b[39m \u001b[38;5;241m+\u001b[39m terminal_output\n\u001b[1;32m    542\u001b[0m     ) \u001b[38;5;28;01mfrom\u001b[39;00m \u001b[38;5;21;01me\u001b[39;00m\n\u001b[1;32m    544\u001b[0m \u001b[38;5;66;03m# Ending thread\u001b[39;00m\n\u001b[1;32m    545\u001b[0m \u001b[38;5;66;03m# Todo: Ending queue thread\u001b[39;00m\n",
            "\u001b[0;31mMapdlDidNotStart\u001b[0m: MAPDL failed to start the gRPC server.\nCheck the run location: '/tmp/ansys_nctwymvlfw').\nThe full terminal output is:\n\nBeta activation of the GRPC server.Ansys Mechanical Enterprise Academic Student      \n\n\n\n\n\n *------------------------------------------------------------------*\n\n |                                                                  |\n\n |   W E L C O M E   T O   T H E   A N S Y S (R)  P R O G R A M     |\n\n |                                                                  |\n\n *------------------------------------------------------------------*\n\n\n\n\n\n\n\n\n\n ***************************************************************\n\n *         ANSYS MAPDL                  LEGAL NOTICES          *\n\n ***************************************************************\n\n *                                                             *\n\n * Copyright 1971-2024 Ansys, Inc.  All rights reserved.       *\n\n * Unauthorized use, distribution or duplication is            *\n\n * prohibited.                                                 *\n\n *                                                             *\n\n * Ansys is a registered trademark of Ansys, Inc. or its       *\n\n * subsidiaries in the United States or other countries.       *\n\n * See the Ansys, Inc. online documentation or the Ansys, Inc. *\n\n * documentation CD or online help for the complete Legal      *\n\n * Notice.                                                     *\n\n *                                                             *\n\n ***************************************************************\n\n *                                                             *\n\n * THIS ANSYS SOFTWARE PRODUCT AND PROGRAM DOCUMENTATION       *\n\n * INCLUDE TRADE SECRETS AND CONFIDENTIAL AND PROPRIETARY      *\n\n * PRODUCTS OF ANSYS, INC., ITS SUBSIDIARIES, OR LICENSORS.    *\n\n * The software products and documentation are furnished by    *\n\n * Ansys, Inc. or its subsidiaries under a software license    *\n\n * agreement that contains provisions concerning               *\n\n * non-disclosure, copying, length and nature of use,          *\n\n * compliance with exporting laws, warranties, disclaimers,    *\n\n * limitations of liability, and remedies, and other           *\n\n * provisions.  The software products and documentation may be *\n\n * used, disclosed, transferred, or copied only in accordance  *\n\n * with the terms and conditions of that software license      *\n\n * agreement.                                                  *\n\n *                                                             *\n\n * Ansys, Inc. is a UL registered                              *\n\n * ISO 9001:2015 company.                                      *\n\n *                                                             *\n\n ***************************************************************\n\n *                                                             *\n\n * This product is subject to U.S. laws governing export and   *\n\n * re-export.                                                  *\n\n *                                                             *\n\n * For U.S. Government users, except as specifically granted   *\n\n * by the Ansys, Inc. software license agreement, the use,     *\n\n * duplication, or disclosure by the United States Government  *\n\n * is subject to restrictions stated in the Ansys, Inc.        *\n\n * software license agreement and FAR 12.212 (for non-DOD      *\n\n * licenses).                                                  *\n\n *                                                             *\n\n ***************************************************************\n\n\n\n\n\n *** WARNING ***                         CP =       0.115   TIME= 11:52:16\n\n MISSING DOCUMENTATION FILE                                              \n\n  DOCU LIST FILE = /ansys_inc/v241/ansys/gui/en-us/                      \n\n  MISSING FILE NAME = /__w/mapdl-docker-image-builder/.                  \n\n\n\n\n\n          *****  MAPDL COMMAND LINE ARGUMENTS  *****\n\n  INITIAL JOBNAME              = bracket                                                                                                                                                                                                                                                 \n\n       2 PARALLEL PROCESSES REQUESTED WITH SINGLE THREAD PER PROCESS\n\n    TOTAL OF     2 CORES REQUESTED\n\n\n\n PARAMETER STATUS-           (   1 PARAMETERS DEFINED)\n\n\n\n NAME                              VALUE                        TYPE\n\n PORT                              50052.0000                    SCALAR\n\n\n\n RELEASE=                      BUILD= 24.1      UP20231106   VERSION=LINUX x64   \n\n CURRENT JOBNAME=bracket0  11:52:16  JAN 18, 2024 CP=      0.117\n\n\n\n\n\n RUN SETUP PROCEDURE FROM FILE= /ansys_inc/v241/ansys/apdl/start.ans*** FATAL ***                           CP =       0.125   TIME= 11:52:17\n\n The requested number of distributed-memory processes (2) exceeds the    \n\n number of physical processors that are available (1) on machine:        \n\n 13e1d288b5c5.  The use of virtual processors is not recommended.  It    \n\n is required that you use a maximum of 1 distributed-memory processes    \n\n on this machine.                                                        \n\n\n\n ************************************************************************\n\n The above error is non-recoverable by ANSYS                             \n\n  ANSYS run terminated by the indicated error                            \n\n  Current data base saved if possible.                                   \n\n ************************************************************************\n\n\n\n DATA INPUT WRITTEN ON /tmp/ansys_nctwymvlfw/bracket0.log                                                                                                                                                                                                                                  \n\n\n\n+--------------------- M A P D L   S T A T I S T I C S ------------------------+\n\n\n\nRelease:                    Build: 24.1       Update: UP20231106   Platform: LINUX x64   \n\nDate Run: 01/18/2024   Time: 11:52     Process ID: 2598\n\nOperating System: Ubuntu 22.04.3 LTS\n\n\n\nProcessor Model: AMD EPYC 7763 64-Core Processor\n\n\n\nCompiler: Intel(R) Fortran Compiler Classic Version 2021.9  (Build: 20230302)\n\n          Intel(R) C/C++ Compiler Classic Version 2021.9  (Build: 20230302)\n\n          Intel(R) Math Kernel Library Version 2020.0.0 Product Build 20191122\n\n          BLAS Library supplied by AMD BLIS\n\n \n\nNumber of processes requested           :    2\n\nNumber of threads per process requested :    1\n\nTotal number of cores requested         :    2 (Distributed Memory Parallel)               \n\nMPI Type: INTELMPI\n\nMPI Version: Intel(R) MPI Library 2021.10 for Linux* OS\n\n\n\n\n\nGPU Acceleration: Not Requested\n\n\n\nJob Name: bracket0\n\n\n\n  Core                Machine Name   Working Directory\n\n -----------------------------------------------------\n\n     0                13e1d288b5c5   /tmp/ansys_nctwymvlfw\n\n     1                13e1d288b5c5   /tmp/ansys_nctwymvlfw\n\n \n\n \n\n\n\nTotal CPU time for main thread                    :        0.6 seconds\n\nTotal CPU time summed for all threads             :        0.1 seconds\n\n\n\nElapsed time spent obtaining a license            :        2.6 seconds\n\nElapsed time spent pre-processing model (/PREP7)  :        0.0 seconds\n\nElapsed time spent solution - preprocessing       :        0.0 seconds\n\nElapsed time spent computing solution             :        0.0 seconds\n\nElapsed time spent solution - postprocessing      :        0.0 seconds\n\nElapsed time spent post-processing model (/POST1) :        0.0 seconds\n\n \n\n\n\n+------------------ E N D   M A P D L   S T A T I S T I C S -------------------+\n\n\n\n\n\n *-----------------------------------------------------------------------------*\n\n |                                                                             |\n\n |                               RUN COMPLETED                                 |\n\n |                                                                             |\n\n |-----------------------------------------------------------------------------|\n\n |                                                                             |\n\n |  Ansys MAPDL                 Build 24.1         UP20231106    LINUX x64     |\n\n |                                                                             |\n\n |-----------------------------------------------------------------------------|\n\n |                                                                             |\n\n |  Database Requested(-db)  1024 MB     Scratch Memory Requested      1024 MB |\n\n |  Maximum Database Used       1 MB     Maximum Scratch Memory Used      1 MB |\n\n |                                                                             |\n\n |-----------------------------------------------------------------------------|\n\n |                                                                             |\n\n |        CP Time      (sec) =          0.136       Time  =  11:52:17          |\n\n |        Elapsed Time (sec) =          5.000       Date  =  01/18/2024        |\n\n |                                                                             |\n\n *-----------------------------------------------------------------------------*\n\nThe full terminal output is:\n\n",
            "\nDuring handling of the above exception, another exception occurred:\n",
            "\u001b[0;31mLicenseServerConnectionError\u001b[0m              Traceback (most recent call last)",
            "Cell \u001b[0;32mIn[1], line 4\u001b[0m\n\u001b[1;32m      1\u001b[0m \u001b[38;5;28;01mfrom\u001b[39;00m \u001b[38;5;21;01mansys\u001b[39;00m\u001b[38;5;21;01m.\u001b[39;00m\u001b[38;5;21;01mmapdl\u001b[39;00m\u001b[38;5;21;01m.\u001b[39;00m\u001b[38;5;21;01mcore\u001b[39;00m \u001b[38;5;28;01mimport\u001b[39;00m launch_mapdl\n\u001b[1;32m      3\u001b[0m jobName \u001b[38;5;241m=\u001b[39m \u001b[38;5;124m\"\u001b[39m\u001b[38;5;124mbracket\u001b[39m\u001b[38;5;124m\"\u001b[39m  \u001b[38;5;66;03m# optional\u001b[39;00m\n\u001b[0;32m----> 4\u001b[0m mapdl \u001b[38;5;241m=\u001b[39m \u001b[43mlaunch_mapdl\u001b[49m\u001b[43m(\u001b[49m\u001b[43mjobname\u001b[49m\u001b[38;5;241;43m=\u001b[39;49m\u001b[43mjobName\u001b[49m\u001b[43m)\u001b[49m\n",
            "File \u001b[0;32m~/.venv/lib/python3.10/site-packages/ansys/mapdl/core/launcher.py:1632\u001b[0m, in \u001b[0;36mlaunch_mapdl\u001b[0;34m(exec_file, run_location, jobname, nproc, ram, mode, override, loglevel, additional_switches, start_timeout, port, cleanup_on_exit, start_instance, ip, clear_on_connect, log_apdl, remove_temp_files, remove_temp_dir_on_exit, verbose_mapdl, license_server_check, license_type, print_com, add_env_vars, replace_env_vars, version, **kwargs)\u001b[0m\n\u001b[1;32m   1630\u001b[0m     \u001b[38;5;28;01mif\u001b[39;00m license_server_check:\n\u001b[1;32m   1631\u001b[0m         LOG\u001b[38;5;241m.\u001b[39mdebug(\u001b[38;5;124m\"\u001b[39m\u001b[38;5;124mChecking license server.\u001b[39m\u001b[38;5;124m\"\u001b[39m)\n\u001b[0;32m-> 1632\u001b[0m         \u001b[43mlic_check\u001b[49m\u001b[38;5;241;43m.\u001b[39;49m\u001b[43mcheck\u001b[49m\u001b[43m(\u001b[49m\u001b[43m)\u001b[49m\n\u001b[1;32m   1634\u001b[0m     \u001b[38;5;28;01mraise\u001b[39;00m exception\n\u001b[1;32m   1636\u001b[0m \u001b[38;5;66;03m# Stopping license checker\u001b[39;00m\n",
            "File \u001b[0;32m~/.venv/lib/python3.10/site-packages/ansys/mapdl/core/licensing.py:160\u001b[0m, in \u001b[0;36mLicenseChecker.check\u001b[0;34m(self)\u001b[0m\n\u001b[1;32m    158\u001b[0m     \u001b[38;5;28;01mreturn\u001b[39;00m \u001b[38;5;28;01mTrue\u001b[39;00m\n\u001b[1;32m    159\u001b[0m \u001b[38;5;28;01melif\u001b[39;00m \u001b[38;5;28mself\u001b[39m\u001b[38;5;241m.\u001b[39m_license_file_success \u001b[38;5;129;01mis\u001b[39;00m \u001b[38;5;28;01mFalse\u001b[39;00m:\n\u001b[0;32m--> 160\u001b[0m     \u001b[38;5;28;01mraise\u001b[39;00m LicenseServerConnectionError(\u001b[38;5;124m\"\u001b[39m\u001b[38;5;130;01m\\n\u001b[39;00m\u001b[38;5;124m\"\u001b[39m\u001b[38;5;241m.\u001b[39mjoin(\u001b[38;5;28mself\u001b[39m\u001b[38;5;241m.\u001b[39m_license_file_msg))\n\u001b[1;32m    162\u001b[0m \u001b[38;5;28;01mif\u001b[39;00m \u001b[38;5;28mself\u001b[39m\u001b[38;5;241m.\u001b[39m_license_checkout_success:\n\u001b[1;32m    163\u001b[0m     \u001b[38;5;28;01mreturn\u001b[39;00m \u001b[38;5;28;01mTrue\u001b[39;00m\n",
            "\u001b[0;31mLicenseServerConnectionError\u001b[0m: Exceeded 10 seconds while waiting for /home/mapdl/.ansys/licdebug.13e1d288b5c5.FEAT_ANSYS.241.out to exist."
          ]
        }
      ],
      "source": [
        "from ansys.mapdl.core import launch_mapdl\n",
        "\n",
        "mapdl = launch_mapdl()"
      ]
    },
    {
      "cell_type": "markdown",
      "metadata": {},
      "source": [
        "Build the geometry\n",
        "==================\n",
        "\n",
        "Define rectangles\n",
        "-----------------\n",
        "\n",
        "There are several ways to create the model geometry within Mechanical\n",
        "APDL, and some are more convenient than others. The first step is to\n",
        "recognize that you can construct the bracket easily with combinations of\n",
        "rectangles and circle primitives.\n",
        "\n",
        "Select an arbitrary global origin location, and then define the\n",
        "rectangle and circle primitives relative to that origin. For this\n",
        "analysis, use the center of the upper-left hole. Begin by defining a\n",
        "rectangle relative to that location.\n",
        "\n",
        "The APDL command [mapdl.prep7()](https://mapdl.docs.pyansys.com/version/0.67/mapdl_commands/session/_autosummary/ansys.mapdl.core.Mapdl.prep7.html#prep7)\n",
        "is used to create a rectangle with `X1`, `X2`, `Y1`, and\n",
        "`Y2` dimensions. In PyMAPDL the [mapdl()](https://mapdl.docs.pyansys.com/version/0.67/api/mapdl.html#ansys.mapdl.core.mapdl._MapdlCore) class\n",
        "is used to call the APDL command.\n",
        "\n",
        "### Dimension box 1\n",
        "\n",
        "Enter the following:\n",
        "\n",
        "```py\n",
        "X1 = 0\n",
        "X2 = 6\n",
        "Y1 = -1\n",
        "Y2 = 1\n",
        "```\n",
        "\n",
        "Or use a Python list to store the dimensions:\n"
      ]
    },
    {
      "cell_type": "code",
      "execution_count": null,
      "metadata": {
        "collapsed": false
      },
      "outputs": [],
      "source": [
        "box1 = [0, 6, -1, 1]"
      ]
    },
    {
      "cell_type": "markdown",
      "metadata": {},
      "source": [
        "Dimension box 2\n",
        "===============\n",
        "\n",
        "Enter the following:\n"
      ]
    },
    {
      "cell_type": "code",
      "execution_count": null,
      "metadata": {
        "collapsed": false
      },
      "outputs": [],
      "source": [
        "box2 = [4, 6, -1, -3]"
      ]
    },
    {
      "cell_type": "markdown",
      "metadata": {},
      "source": [
        "The [mapdl.prep7()](https://mapdl.docs.pyansys.com/version/0.67/mapdl_commands/session/_autosummary/ansys.mapdl.core.Mapdl.prep7.html#prep7) command starts the APDL preprocessor to start the build up\n",
        "of the analysis. This is the processor where the model geometry is\n",
        "created.\n"
      ]
    },
    {
      "cell_type": "code",
      "execution_count": null,
      "metadata": {
        "collapsed": false
      },
      "outputs": [],
      "source": [
        "mapdl.prep7()"
      ]
    },
    {
      "cell_type": "markdown",
      "metadata": {},
      "source": [
        "Parameterize as much as possible, taking advantage of Python features\n",
        "such as the Python `list` or `dict` class. \n",
        "Good practice would be to have all parameters near or at the top of the input\n",
        "file. However, for this interactive tutorial, they are inline.\n"
      ]
    },
    {
      "cell_type": "code",
      "execution_count": null,
      "metadata": {
        "collapsed": false
      },
      "outputs": [],
      "source": [
        "# build your cubes\n",
        "mapdl.rectng(box1[0], box1[1], box1[2], box1[3])"
      ]
    },
    {
      "cell_type": "markdown",
      "metadata": {},
      "source": [
        "In Python, you can use the `*` to unpack an object in a function call.\n",
        "For example:\n"
      ]
    },
    {
      "cell_type": "code",
      "execution_count": null,
      "metadata": {
        "collapsed": false
      },
      "outputs": [],
      "source": [
        "mapdl.rectng(*box2)  # prints the id of the created area"
      ]
    },
    {
      "cell_type": "markdown",
      "metadata": {},
      "source": [
        "Plot areas\n",
        "==========\n",
        "\n",
        "PyMAPDL plots can be controlled through arguments passed to the different plot methods, such as [mapdl.aplot()](https://mapdl.docs.pyansys.com/version/0.67/api/_autosummary/ansys.mapdl.core.Mapdl.aplot.html#aplot)\n",
        "\n",
        "The area plot shows both rectangles, which are areas, in the same color.\n",
        "To more clearly distinguish between areas, turn on area numbers.\n",
        "For more information, see the\n",
        "[mapdl.aplot()](https://mapdl.docs.pyansys.com/version/0.67/api/_autosummary/ansys.mapdl.core.Mapdl.aplot.html#aplot) method.\n",
        "\n"
      ]
    },
    {
      "cell_type": "code",
      "execution_count": null,
      "metadata": {
        "collapsed": false
      },
      "outputs": [],
      "source": [
        "mapdl.aplot(cpos=\"xy\", show_lines=True)"
      ]
    },
    {
      "cell_type": "markdown",
      "metadata": {},
      "source": [
        "Create first circle\n",
        "===================\n",
        "\n",
        "With the use of logic and Boolean geometrical operations, you can use\n",
        "the original geometric parameters (`box1`, `box2`) to locate the\n",
        "circles.\n",
        "\n",
        "Create the half circle at each end of the bracket. You first create a\n",
        "full circle on each end and then combine the circles and rectangles with\n",
        "a Boolean add operation (discussed in [Subtract pin holes from\n",
        "bracket]()).\n",
        "\n",
        "The APDL command to create the circles is [mapdl.cyl4()](https://mapdl.docs.pyansys.com/version/0.67/mapdl_commands/prep7/_autosummary/ansys.mapdl.core.Mapdl.cyl4.html#cyl4)\n",
        "\n",
        "The first circle area is located on the left side at the X,Y location,\n",
        "and its radius is $1$.\n"
      ]
    },
    {
      "cell_type": "code",
      "execution_count": null,
      "metadata": {
        "collapsed": false
      },
      "outputs": [],
      "source": [
        "# Create first circle\n",
        "radius = 1\n",
        "circle1_X = box1[0]\n",
        "circle1_Y = (box1[2] + box1[3]) / 2\n",
        "mapdl.cyl4(circle1_X, circle1_Y, radius)\n",
        "\n",
        "mapdl.aplot(vtk=True, cpos=\"xy\", show_lines=True)"
      ]
    },
    {
      "cell_type": "markdown",
      "metadata": {},
      "source": [
        "Create second circle\n",
        "====================\n",
        "\n",
        "Create the second circle at the X,Y location:\n"
      ]
    },
    {
      "cell_type": "code",
      "execution_count": null,
      "metadata": {
        "collapsed": false
      },
      "outputs": [],
      "source": [
        "circle2_X = (box2[0] + box2[1]) / 2\n",
        "circle2_Y = box2[3]"
      ]
    },
    {
      "cell_type": "markdown",
      "metadata": {},
      "source": [
        "Use these parameter values to create the new area with the same radius\n",
        "of $1$ as the first circle area.\n"
      ]
    },
    {
      "cell_type": "code",
      "execution_count": null,
      "metadata": {
        "collapsed": false
      },
      "outputs": [],
      "source": [
        "mapdl.cyl4(circle2_X, circle2_Y, radius)\n",
        "mapdl.aplot(vtk=True, cpos=\"xy\", show_lines=True)"
      ]
    },
    {
      "cell_type": "markdown",
      "metadata": {},
      "source": [
        "Add areas\n",
        "=========\n",
        "\n",
        "Now that the appropriate pieces of the model (rectangles and circles)\n",
        "are defined, add them together so the model becomes one continuous area.\n",
        "Use the Boolean add operation [mapdl.aadd()](https://mapdl.docs.pyansys.com/version/0.67/mapdl_commands/prep7/_autosummary/ansys.mapdl.core.Mapdl.aadd.html#aadd) to add the areas together.\n",
        "\n",
        "Use the `all` argument to add all areas.\n"
      ]
    },
    {
      "cell_type": "code",
      "execution_count": null,
      "metadata": {
        "collapsed": false
      },
      "outputs": [],
      "source": [
        "mapdl.aadd(\"all\")  # Prints the ID of the created area"
      ]
    },
    {
      "cell_type": "markdown",
      "metadata": {},
      "source": [
        "Create line fillet\n",
        "==================\n",
        "\n",
        "The right angle between the two boxes can be improved using a fillet\n",
        "with a radius of $0.4$. You can do this by selecting the lines around\n",
        "this area and creating the fillet.\n",
        "\n",
        "Use the APDL [mapdl.lsel()](https://mapdl.docs.pyansys.com/version/0.67/mapdl_commands/database/_autosummary/ansys.mapdl.core.Mapdl.lsel.html#lsel) method to select lines. Here, the X and Y locations of the\n",
        "lines are used to create the boxes for creating your selection.\n",
        "\n",
        "After selecting the line, you need to write it to a parameter so you can\n",
        "use it to generate the fillet line. This is done using the\n",
        "[mapdl.get()](https://mapdl.docs.pyansys.com/version/0.67/api/_autosummary/ansys.mapdl.core.Mapdl.get_value.html#get-value) method.\n",
        "\n",
        "Because you have selected one line, you can use the `MAX` and `NUM`\n",
        "arguments for the [mapdl.get()](https://mapdl.docs.pyansys.com/version/0.67/api/_autosummary/ansys.mapdl.core.Mapdl.get_value.html#get-value) method.\n",
        "\n",
        "Select first line for fillet\n"
      ]
    },
    {
      "cell_type": "code",
      "execution_count": null,
      "metadata": {
        "collapsed": false
      },
      "outputs": [],
      "source": [
        "line1 = mapdl.lsel(\"S\", \"LOC\", \"Y\", box1[2])\n",
        "l1 = mapdl.get_value(\"line1\", \"LINE\", 0, \"NUM\", \"MAX\")"
      ]
    },
    {
      "cell_type": "markdown",
      "metadata": {},
      "source": [
        "If you write the command to a Python parameter (`line1`), you can use\n",
        "either the APDL parameter `l1` or the Python parameter `line1` when you\n",
        "create the fillet line.\n",
        "\n",
        "Select second line for fillet and create Python parameter\n"
      ]
    },
    {
      "cell_type": "code",
      "execution_count": null,
      "metadata": {
        "collapsed": false
      },
      "outputs": [],
      "source": [
        "line2 = mapdl.lsel(\"S\", \"LOC\", \"X\", box2[0])\n",
        "l2 = mapdl.get_value(\"line2\", \"LINE\", 0, \"NUM\", \"MAX\")"
      ]
    },
    {
      "cell_type": "markdown",
      "metadata": {},
      "source": [
        "Once you have both lines selected, you can use the PyMAPDL command\n",
        "[mapdl.lfillt()](https://mapdl.docs.pyansys.com/version/0.67/mapdl_commands/prep7/_autosummary/ansys.mapdl.core.Mapdl.lfillt.html#lfillt) to generate the fillet between the lines.\n",
        "\n",
        "**Note** that Python could return a list if more than one line is\n",
        "selected.\n"
      ]
    },
    {
      "cell_type": "markdown",
      "metadata": {},
      "source": [
        "Here you use a mix of the APDL parameter as a string `line1` and the\n",
        "`l2` Python parameter to create the fillet line.\n",
        "\n",
        "Create fillet line using selected line (parameter names)\n"
      ]
    },
    {
      "cell_type": "code",
      "execution_count": null,
      "metadata": {
        "collapsed": false
      },
      "outputs": [],
      "source": [
        "fillet_radius = 0.4\n",
        "mapdl.allsel()\n",
        "line3 = mapdl.lfillt(\"line1\", l2, fillet_radius)\n",
        "\n",
        "mapdl.allsel()\n",
        "mapdl.lplot(vtk=True, cpos=\"xy\")"
      ]
    },
    {
      "cell_type": "markdown",
      "metadata": {},
      "source": [
        "Create fillet area\n",
        "==================\n",
        "\n",
        "To create the area delineated by `line1`, `line2`, and newly created\n",
        "`line3`, use the\n",
        "[mapdl.al()](https://mapdl.docs.pyansys.com/version/0.67/mapdl_commands/prep7/_autosummary/ansys.mapdl.core.Mapdl.al.html#al)\n",
        "method. The three lines are the input. If you select them all, you can\n",
        "use the `'ALL'` argument to create the area.\n",
        "\n",
        "First you have to reselect the newly created lines in the fillet area.\n",
        "To do this, you can use the `fillet_radius` parameter and the\n",
        "[mapdl.lsel()](https://mapdl.docs.pyansys.com/version/0.67/mapdl_commands/database/_autosummary/ansys.mapdl.core.Mapdl.lsel.html#lsel) command.\n",
        "\n",
        "For the two newly created straight lines, the length is the same as the\n",
        "`fillet_radius` value. Thus, you can use the length argument with the\n",
        "[mapdl.lsel()](https://mapdl.docs.pyansys.com/version/0.67/mapdl_commands/database/_autosummary/ansys.mapdl.core.Mapdl.lsel.html#lsel) command.\n"
      ]
    },
    {
      "cell_type": "code",
      "execution_count": null,
      "metadata": {
        "collapsed": false
      },
      "outputs": [],
      "source": [
        "mapdl.allsel()\n",
        "\n",
        "# Select lines for the area\n",
        "mapdl.lsel(\"S\", \"LENGTH\", \"\", fillet_radius)"
      ]
    },
    {
      "cell_type": "markdown",
      "metadata": {},
      "source": [
        "Additionally, you need to get the fillet line itself (`line3`). You can\n",
        "use the [mapdl.lsel()](https://mapdl.docs.pyansys.com/version/0.67/mapdl_commands/database/_autosummary/ansys.mapdl.core.Mapdl.lsel.html#lsel) command again with either the `'RADIUS'` argument if there\n",
        "is only one line with that radius in the model or more directly use the\n",
        "parameter name of the line. Note the `'A'` to additionally select items.\n"
      ]
    },
    {
      "cell_type": "code",
      "execution_count": null,
      "metadata": {
        "collapsed": false
      },
      "outputs": [],
      "source": [
        "mapdl.lsel(\"A\", \"LINE\", \"\", line3)\n",
        "\n",
        "# plotting ares\n",
        "mapdl.lplot(vtk=True, cpos=\"xy\", show_line_numbering=True)"
      ]
    },
    {
      "cell_type": "markdown",
      "metadata": {},
      "source": [
        "Then use [mapdl.al()](https://mapdl.docs.pyansys.com/version/0.67/mapdl_commands/prep7/_autosummary/ansys.mapdl.core.Mapdl.al.html#al) command to create the areas from the lines.\n"
      ]
    },
    {
      "cell_type": "code",
      "execution_count": null,
      "metadata": {
        "collapsed": false
      },
      "outputs": [],
      "source": [
        "# Create the area\n",
        "mapdl.al(\"ALL\")  # Prints the ID of the newly created area"
      ]
    },
    {
      "cell_type": "markdown",
      "metadata": {},
      "source": [
        "Add areas together\n",
        "==================\n",
        "\n",
        "Append all areas again with the\n",
        "[mapdl.aadd()](https://mapdl.docs.pyansys.com/version/0.67/mapdl_commands/prep7/_autosummary/ansys.mapdl.core.Mapdl.aadd.html#aadd). Because you have only the two areas to combine, use the\n",
        "`'ALL'` argument.\n"
      ]
    },
    {
      "cell_type": "code",
      "execution_count": null,
      "metadata": {
        "collapsed": false
      },
      "outputs": [],
      "source": [
        "# Add the area to the main area\n",
        "mapdl.aadd(\"all\")\n",
        "mapdl.aplot(vtk=True, cpos=\"xy\", show_lines=True)"
      ]
    },
    {
      "cell_type": "markdown",
      "metadata": {},
      "source": [
        "Create first pin hole\n",
        "=====================\n",
        "\n",
        "The first pin hole is located at the left side of the first box. Thus,\n",
        "you can use the box dimensions to locate your new circle.\n",
        "\n",
        "The X value (center) of the pin hole is at the first coordinate of the\n",
        "`box1` (`X1`). The Y value is the average of the two `box1` Y values:\n"
      ]
    },
    {
      "cell_type": "code",
      "execution_count": null,
      "metadata": {
        "collapsed": false
      },
      "outputs": [],
      "source": [
        "# Create the first pinhole\n",
        "pinhole_radius = 0.4\n",
        "pinhole1_X = box1[0]\n",
        "pinhole1_Y = (box1[2] + box1[3]) / 2\n",
        "\n",
        "pinhole1 = mapdl.cyl4(pinhole1_X, pinhole1_Y, pinhole_radius)"
      ]
    },
    {
      "cell_type": "markdown",
      "metadata": {},
      "source": [
        "Because you have two pin hole circles, you use the command twice.\n",
        "\n",
        "**Note**\n",
        "\n",
        "Some of these areas are set to parameters to use later in the analysis.\n",
        "This allows you to use the lines to create the areas with the\n",
        "[mapdl.asll()](https://mapdl.docs.pyansys.com/version/0.67/mapdl_commands/database/_autosummary/ansys.mapdl.core.Mapdl.asll.html#asll) command.\n"
      ]
    },
    {
      "cell_type": "markdown",
      "metadata": {},
      "source": [
        "Create second pin hole\n",
        "======================\n",
        "\n",
        "The second pin hole is located at the bottom of the second box, so again\n",
        "we can use the box 2 dimensions to locate the circle. For this pinhole\n",
        "the dimensions are:\n"
      ]
    },
    {
      "cell_type": "code",
      "execution_count": null,
      "metadata": {
        "collapsed": false
      },
      "outputs": [],
      "source": [
        "pinhole2_X = (box2[0] + box2[1]) / 2\n",
        "pinhole2_Y = box2[3]\n",
        "\n",
        "pinhole2 = mapdl.cyl4(pinhole2_X, pinhole2_Y, pinhole_radius)\n",
        "pinhole2_lines = mapdl.asll(\"S\", 0)"
      ]
    },
    {
      "cell_type": "markdown",
      "metadata": {},
      "source": [
        "Subtract pin holes from bracket\n",
        "===============================\n",
        "\n",
        "If you use the\n",
        "[mapdl.aplot()](https://mapdl.docs.pyansys.com/version/0.67/api/_autosummary/ansys.mapdl.core.Mapdl.aplot.html#aplot) command with lines, at this point, you have created two\n",
        "circle areas overlapping the bracket. You can use the\n",
        "[mapdl.asba()](https://mapdl.docs.pyansys.com/version/0.67/mapdl_commands/prep7/_autosummary/ansys.mapdl.core.Mapdl.asba.html#asba) command, which is the Boolean command to subtract areas, to\n",
        "remove the circles from the bracket.\n"
      ]
    },
    {
      "cell_type": "code",
      "execution_count": null,
      "metadata": {
        "collapsed": false
      },
      "outputs": [],
      "source": [
        "# Remove pin hole areas from bracket\n",
        "mapdl.asba(\"all\", pinhole1)\n",
        "bracket = mapdl.asba(\"all\", pinhole2)\n",
        "mapdl.aplot(vtk=True, show_lines=True, cpos=\"xy\")"
      ]
    },
    {
      "cell_type": "markdown",
      "metadata": {},
      "source": [
        "Model definition\n",
        "================\n",
        "\n",
        "Define material properties\n",
        "--------------------------\n",
        "\n",
        "There is only one material property to define for the bracket, A36\n",
        "Steel, with given values for the Young\\'s modulus of elasticity and\n",
        "Poisson\\'s ratio.\n"
      ]
    },
    {
      "cell_type": "code",
      "execution_count": null,
      "metadata": {
        "collapsed": false
      },
      "outputs": [],
      "source": [
        "ex = 30e6  # Young's Modulus\n",
        "prxy = 0.27  # Poisson's ratio"
      ]
    },
    {
      "cell_type": "markdown",
      "metadata": {},
      "source": [
        "Use the [mapdl.mp()](https://mapdl.docs.pyansys.com/version/0.67/mapdl_commands/prep7/_autosummary/ansys.mapdl.core.Mapdl.mp.html#mp) command to define material properties in PyMAPDL.\n"
      ]
    },
    {
      "cell_type": "code",
      "execution_count": null,
      "metadata": {
        "collapsed": false
      },
      "outputs": [],
      "source": [
        "mapdl.mp(\"EX\", 1, ex)\n",
        "mapdl.mp(\"PRXY\", 1, prxy)"
      ]
    },
    {
      "cell_type": "markdown",
      "metadata": {},
      "source": [
        "Define element types and options\n",
        "================================\n",
        "\n",
        "You use the [mapdl.et()](https://mapdl.docs.pyansys.com/version/0.67/mapdl_commands/prep7/_autosummary/ansys.mapdl.core.Mapdl.et.html#et) command to select an element .\n",
        "\n",
        "In any analysis, you select elements from a library of element types and\n",
        "define the appropriate ones for the analysis. In this case, only one\n",
        "element type is used: [PLANE183](https://ansyshelp.ansys.com/account/Secured?returnurl=/Views/Secured/corp/v231/en/ans_elem/Hlp_E_PLANE183.html), a 2D, quadratic, structural,\n",
        "higher-order element.\n",
        "\n",
        "A higher-order element enables you to have a coarser mesh than with\n",
        "lower-order elements while still maintaining solution accuracy. Also,\n",
        "Mechanical APDL generates some triangle-shaped elements in the mesh that\n",
        "would otherwise be inaccurate when using lower-order elements.\n",
        "\n",
        "Options for PLANE183\n",
        "--------------------\n",
        "\n",
        "Specify plane stress with thickness as an option for [PLANE183](https://ansyshelp.ansys.com/account/Secured?returnurl=/Views/Secured/corp/v231/en/ans_elem/Hlp_E_PLANE183.html).\n",
        "(Thickness is defined as a real constant in [Define real constants](#define-real-constants)).\n",
        "Select plane stress with the thickness option for the element behavior.\n",
        "The thickness option is set using the element keyoption 3. For more\n",
        "information, see the [PLANE183](https://ansyshelp.ansys.com/account/Secured?returnurl=/Views/Secured/corp/v231/en/ans_elem/Hlp_E_PLANE183.html) element definition in the Ansys Help.\n"
      ]
    },
    {
      "cell_type": "code",
      "execution_count": null,
      "metadata": {
        "collapsed": false
      },
      "outputs": [],
      "source": [
        "# define a ``PLANE183`` element type with thickness\n",
        "mapdl.et(1, \"PLANE183\", kop3=3)"
      ]
    },
    {
      "cell_type": "markdown",
      "metadata": {},
      "source": [
        "Define real constants\n",
        "=====================\n",
        "\n",
        "Assuming plane stress with thickness, enter the thickness as a real\n",
        "constant for [PLANE183](https://ansyshelp.ansys.com/account/Secured?returnurl=/Views/Secured/corp/v231/en/ans_elem/Hlp_E_PLANE183.html):\n",
        "\n",
        "You use the [mapdl.r()](https://mapdl.docs.pyansys.com/version/0.67/mapdl_commands/prep7/_autosummary/ansys.mapdl.core.Mapdl.r.html#r) command to set real constants.\n"
      ]
    },
    {
      "cell_type": "code",
      "execution_count": null,
      "metadata": {
        "collapsed": false
      },
      "outputs": [],
      "source": [
        "# Set element thickness\n",
        "thick = 0.5\n",
        "mapdl.r(1, thick)  # thickness of 0.5 length units)"
      ]
    },
    {
      "cell_type": "markdown",
      "metadata": {},
      "source": [
        "Mesh\n",
        "====\n",
        "\n",
        "You can mesh the model without specifying mesh-size controls. If you are\n",
        "unsure of how to determine mesh density, you can allow Mechanical APDL\n",
        "to apply a default mesh. For this model, however, you want to specify a\n",
        "global element size to control overall mesh density. Set global size\n",
        "control using the\n",
        "[mapdl.esize()](https://mapdl.docs.pyansys.com/version/0.67/mapdl_commands/prep7/_autosummary/ansys.mapdl.core.Mapdl.esize.html#esize) command. Set a size of $0.5$ or a slightly smaller value to\n",
        "improve the mesh.\n",
        "\n",
        "Mesh the areas using the\n",
        "[mapdl.amesh()](https://mapdl.docs.pyansys.com/version/0.67/mapdl_commands/prep7/_autosummary/ansys.mapdl.core.Mapdl.amesh.html#amesh) command. Your mesh may vary slightly from the mesh shown.\n",
        "You may see slightly different results during postprocessing.\n",
        "\n",
        "Now you can use the\n",
        "[mapdl.eplot()](https://mapdl.docs.pyansys.com/version/0.67/api/_autosummary/ansys.mapdl.core.Mapdl.eplot.html#eplot) command to see the mesh.\n"
      ]
    },
    {
      "cell_type": "code",
      "execution_count": null,
      "metadata": {
        "collapsed": false
      },
      "outputs": [],
      "source": [
        "element_size = 0.5\n",
        "mapdl.esize(element_size)\n",
        "mapdl.amesh(bracket)\n",
        "mapdl.eplot(\n",
        "    vtk=True,\n",
        "    cpos=\"xy\",\n",
        "    show_edges=True,\n",
        "    show_axes=False,\n",
        "    line_width=2,\n",
        "    background=\"w\",\n",
        ")"
      ]
    },
    {
      "cell_type": "markdown",
      "metadata": {},
      "source": [
        "Boundary conditions\n",
        "===================\n",
        "\n",
        "Loading is considered part of the\n",
        "[mapdl.solu()](https://mapdl.docs.pyansys.com/version/0.67/mapdl_commands/post26/_autosummary/ansys.mapdl.core.Mapdl.solu.html#solu) command or the solution processor in APDL. But it can be\n",
        "also done in the preprocessor with\n",
        "[mapdl.prep7()](https://mapdl.docs.pyansys.com/version/0.67/mapdl_commands/session/_autosummary/ansys.mapdl.core.Mapdl.prep7.html#prep7) command.\n",
        "\n",
        "You can activate the solution processor by calling the\n",
        "[mapdl.solution()](https://mapdl.docs.pyansys.com/version/0.67/api/solution.html#solution-api) class, by using the\n",
        "[mapdl.slashsolu()](https://mapdl.docs.pyansys.com/version/0.67/mapdl_commands/session/_autosummary/ansys.mapdl.core.Mapdl.slashsolu.html#slashsolu) command, or by using\n",
        "[mapdl.run(\"/solu\")](https://mapdl.docs.pyansys.com/version/0.67/api/_autosummary/ansys.mapdl.core.Mapdl.run.html#run) to call the APDL `/SOLU` command.\n"
      ]
    },
    {
      "cell_type": "code",
      "execution_count": null,
      "metadata": {
        "collapsed": false
      },
      "outputs": [],
      "source": [
        "mapdl.allsel()\n",
        "mapdl.solution()"
      ]
    },
    {
      "cell_type": "markdown",
      "metadata": {},
      "source": [
        "Set the analysis type with the\n",
        "[mapdl.antype()](https://mapdl.docs.pyansys.com/version/0.67/mapdl_commands/solution/_autosummary/ansys.mapdl.core.Mapdl.antype.html#antype) command.\n"
      ]
    },
    {
      "cell_type": "code",
      "execution_count": null,
      "metadata": {
        "collapsed": false
      },
      "outputs": [],
      "source": [
        "mapdl.antype(\"STATIC\")"
      ]
    },
    {
      "cell_type": "markdown",
      "metadata": {},
      "source": [
        "Apply displacement constraints\n",
        "==============================\n",
        "\n",
        "This is where you add boundary conditions to the model. First, you want\n",
        "to fix the model by setting a zero displacement at the first pin hole.\n",
        "You can apply displacement constraints directly to lines.\n",
        "\n",
        "To do this without the graphical interface, you would need to replot the\n",
        "lines. Or you can use Booleans and generate the lines from the pin hole\n",
        "locations/box parameters. By using the parameters that you have created,\n",
        "you can select the lines and fix one end of the bracket.\n",
        "\n",
        "Pick the four lines around the left-hand hole using the\n",
        "[mapdl.lsel()](https://mapdl.docs.pyansys.com/version/0.67/mapdl_commands/database/_autosummary/ansys.mapdl.core.Mapdl.lsel.html#lsel) command and the `pinehole1` parameters.\n",
        "\n"
      ]
    },
    {
      "cell_type": "code",
      "execution_count": null,
      "metadata": {
        "collapsed": false
      },
      "outputs": [],
      "source": [
        "bc1 = mapdl.lsel(\n",
        "    \"S\", \"LOC\", \"X\", pinhole1_X - pinhole_radius, pinhole1_X + pinhole_radius\n",
        ")\n",
        "print(f\"Number of lines selected : {len(bc1)}\")"
      ]
    },
    {
      "cell_type": "markdown",
      "metadata": {},
      "source": [
        "Then for loading, select and apply the boundary condition to the nodes\n",
        "attached to those lines using the\n",
        "`mapdl.nsll() <ansys.mapdl.core.Mapdl.nsll>`{.interpreted-text\n",
        "role=\"meth\"} command.\n"
      ]
    },
    {
      "cell_type": "code",
      "execution_count": null,
      "metadata": {
        "collapsed": false
      },
      "outputs": [],
      "source": [
        "fixNodes = mapdl.nsll(type_=\"S\")"
      ]
    },
    {
      "cell_type": "markdown",
      "metadata": {},
      "source": [
        "Next use the [mapdl.d()](https://mapdl.docs.pyansys.com/version/0.67/mapdl_commands/solution/_autosummary/ansys.mapdl.core.Mapdl.d.html#d) command to set the displacement to zero (fixed constraint).\n"
      ]
    },
    {
      "cell_type": "code",
      "execution_count": null,
      "metadata": {
        "collapsed": false
      },
      "outputs": [],
      "source": [
        "# Set up boundary conditions\n",
        "mapdl.d(\"ALL\", \"ALL\", 0)  # The 0 is not required since default is zero\n",
        "\n",
        "# Selecting everything again\n",
        "mapdl.allsel()"
      ]
    },
    {
      "cell_type": "markdown",
      "metadata": {},
      "source": [
        "Apply pressure load\n",
        "===================\n",
        "\n",
        "Apply the tapered pressure load to the bottom-right pin hole. In this\n",
        "case, tapered means varying linearly. When a circle is created in\n",
        "Mechanical APDL, four lines define the perimeter; therefore, apply the\n",
        "pressure to two lines making up the lower half of the circle. Because\n",
        "the pressure tapers from a maximum value (500 psi) at the bottom of the\n",
        "circle to a minimum value (50 psi) at the sides, apply pressure in two\n",
        "separate steps, with reverse tapering values for each line.\n"
      ]
    },
    {
      "cell_type": "code",
      "execution_count": null,
      "metadata": {
        "collapsed": false
      },
      "outputs": [],
      "source": [
        "p1 = 50\n",
        "p2 = 500"
      ]
    },
    {
      "cell_type": "markdown",
      "metadata": {},
      "source": [
        "The Mechanical APDL convention for pressure loading is that a positive\n",
        "load value represents pressure into the surface (compressive).\n",
        "\n",
        "To pick the line, use the same\n",
        "[mapdl.lsel()](https://mapdl.docs.pyansys.com/version/0.67/mapdl_commands/database/_autosummary/ansys.mapdl.core.Mapdl.lsel.html#lsel) command used in the previous cell block and then convert\n",
        "the lines to a nodal selection with the\n",
        "[mapdl.nsel()](https://mapdl.docs.pyansys.com/version/0.67/mapdl_commands/database/_autosummary/ansys.mapdl.core.Mapdl.nsel.html#nsel) command.\n",
        "\n",
        "Note we have a slightly more complicated picking procedure for the two\n",
        "quarters of the full circle. A method to select the lines would be to\n",
        "select the lower half of the second pinhole circle.\n"
      ]
    },
    {
      "cell_type": "code",
      "execution_count": null,
      "metadata": {
        "collapsed": false
      },
      "outputs": [],
      "source": [
        "mapdl.lsel(\"S\", \"LOC\", \"Y\", pinhole2_Y - pinhole_radius, pinhole2_Y)"
      ]
    },
    {
      "cell_type": "markdown",
      "metadata": {},
      "source": [
        "Now repick from that selection the lines that are less than the X center\n",
        "of that pin hole.\n"
      ]
    },
    {
      "cell_type": "code",
      "execution_count": null,
      "metadata": {
        "collapsed": false
      },
      "outputs": [],
      "source": [
        "mapdl.lsel(\"R\", \"LOC\", \"X\", 0, pinhole2_X)\n",
        "\n",
        "mapdl.lplot(vtk=True, cpos=\"xy\")"
      ]
    },
    {
      "cell_type": "markdown",
      "metadata": {},
      "source": [
        "Once you have the correct line, use the\n",
        "[mapdl.sf()](https://mapdl.docs.pyansys.com/version/0.67/mapdl_commands/solution/_autosummary/ansys.mapdl.core.Mapdl.sf.html#sf)\n",
        "command to load the line with the varying surface load.\n"
      ]
    },
    {
      "cell_type": "code",
      "execution_count": null,
      "metadata": {
        "collapsed": false
      },
      "outputs": [],
      "source": [
        "# Here you load the left side of the lower half of second pin hole.\n",
        "mapdl.sf(\"ALL\", \"PRES\", p1, p2)\n",
        "mapdl.allsel()"
      ]
    },
    {
      "cell_type": "markdown",
      "metadata": {},
      "source": [
        "Repeat the procedure for the second pin hole.\n"
      ]
    },
    {
      "cell_type": "code",
      "execution_count": null,
      "metadata": {
        "collapsed": false
      },
      "outputs": [],
      "source": [
        "mapdl.lsel(\"S\", \"LOC\", \"Y\", pinhole2_Y - pinhole_radius, pinhole2_Y)\n",
        "mapdl.lsel(\"R\", \"LOC\", \"X\", pinhole2_X, pinhole2_X + pinhole_radius)\n",
        "\n",
        "mapdl.lplot(\n",
        "    vtk=True,\n",
        "    cpos=\"xy\",\n",
        "    show_line_numbering=True,\n",
        ")\n",
        "\n",
        "mapdl.sf(\"ALL\", \"PRES\", p2, p1)\n",
        "mapdl.allsel()"
      ]
    },
    {
      "cell_type": "markdown",
      "metadata": {},
      "source": [
        "Solution\n",
        "========\n",
        "\n",
        "To solve an Ansys FE analysis, the solution processor must be activated,\n",
        "using the\n",
        "[mapdl.solution()](https://mapdl.docs.pyansys.com/version/0.67/api/solution.html#solution-api) class or the\n",
        "[mapdl.slashsolu()](https://mapdl.docs.pyansys.com/version/0.67/mapdl_commands/session/_autosummary/ansys.mapdl.core.Mapdl.slashsolu.html#slashsolu) command. This was done a few steps earlier.\n",
        "\n",
        "The model is ready to be solved using the\n",
        "[mapdl.solve()](https://mapdl.docs.pyansys.com/version/0.67/mapdl_commands/solution/_autosummary/ansys.mapdl.core.Mapdl.solve.html#solve) command.\n"
      ]
    },
    {
      "cell_type": "code",
      "execution_count": null,
      "metadata": {
        "collapsed": false
      },
      "outputs": [],
      "source": [
        "# Solve the model\n",
        "output = mapdl.solve()\n",
        "print(output)"
      ]
    },
    {
      "cell_type": "markdown",
      "metadata": {},
      "source": [
        "Mechanical APDL stores the results of this single-load-step problem in\n",
        "the database and in the results file, `Jobname.RST` (or `Jobname.RTH` for\n",
        "thermal or `Jobname.RMG` for magnetic).\n",
        "The database can contain only one set of results at any given time, so\n",
        "in a multiple-load-step or multiple-substep analysis, Mechanical APDL\n",
        "stores only the final solution in the database.\n",
        "\n",
        "Mechanical APDL stores all solutions in the results file.\n",
        "\n",
        "Review the results\n",
        "==================\n",
        "\n",
        "This step represents the beginning of the postprocessing phase.\n",
        "\n",
        "**Note**\n",
        "\n",
        "The results you see may vary slightly from what is shown due to\n",
        "variations in the mesh.\n",
        "\n",
        "\n",
        "Enter the postprocessor\n",
        "-----------------------\n",
        "\n",
        "The Ansys APDL postprocessor is a separate processor called with the\n",
        "[mapdl.post1()](https://mapdl.docs.pyansys.com/version/0.67/mapdl_commands/session/_autosummary/ansys.mapdl.core.Mapdl.post1.html#post1) command.\n"
      ]
    },
    {
      "cell_type": "code",
      "execution_count": null,
      "metadata": {
        "collapsed": false
      },
      "outputs": [],
      "source": [
        "mapdl.post1()"
      ]
    },
    {
      "cell_type": "markdown",
      "metadata": {},
      "source": [
        "Plot the deformed shape\n",
        "=======================\n",
        "\n",
        "Here [mapdl.result](https://mapdl.docs.pyansys.com/version/0.67/api/_autosummary/ansys.mapdl.core.Mapdl.result.html#result) is used to retrieve the results and for plotting.\n"
      ]
    },
    {
      "cell_type": "code",
      "execution_count": null,
      "metadata": {
        "collapsed": false
      },
      "outputs": [],
      "source": [
        "# Plot displacement\n",
        "result = mapdl.result\n",
        "result_set = 0  # Plotting the first results\n",
        "disp_fact = 1e10\n",
        "result.plot_nodal_displacement(\n",
        "    result_set,\n",
        "    cpos=\"xy\",\n",
        "    displacement_factor=5,\n",
        "    show_displacement=True,\n",
        "    show_edges=True,\n",
        ")"
      ]
    },
    {
      "cell_type": "markdown",
      "metadata": {},
      "source": [
        "Plot the von Misses equivalent stress\n",
        "=====================================\n",
        "\n",
        "You can also generate stress plots using the\n",
        "[mapdl.post_processing.plot_principal_nodal_stress()](https://mapdl.docs.pyansys.com/version/0.67/api/_autosummary/ansys.mapdl.core.post.PostProcessing.plot_nodal_principal_stress.html#plot-nodal-principal-stress) command.\n"
      ]
    },
    {
      "cell_type": "code",
      "execution_count": null,
      "metadata": {
        "collapsed": false
      },
      "outputs": [],
      "source": [
        "result.plot_principal_nodal_stress(\n",
        "    0,\n",
        "    \"SEQV\",\n",
        "    cpos=\"xy\",\n",
        "    background=\"w\",\n",
        "    text_color=\"k\",\n",
        "    add_text=True,\n",
        "    show_edges=True,\n",
        ")"
      ]
    },
    {
      "cell_type": "markdown",
      "metadata": {},
      "source": [
        "Obtain von Mises stresses.\n"
      ]
    },
    {
      "cell_type": "code",
      "execution_count": null,
      "metadata": {
        "collapsed": false
      },
      "outputs": [],
      "source": [
        "nnum, stress = result.principal_nodal_stress(0)\n",
        "\n",
        "# Von Mises stress is the last column in the stress results\n",
        "von_mises = stress[:, -1]"
      ]
    },
    {
      "cell_type": "markdown",
      "metadata": {},
      "source": [
        "List reaction solution\n",
        "======================\n",
        "\n",
        "To list the FY reactions forces use the APDL\n",
        "[mapdl.prrsol()](https://mapdl.docs.pyansys.com/version/0.67/mapdl_commands/post1/_autosummary/ansys.mapdl.core.Mapdl.prrsol.html#prrsol) command which print the constrained node reaction solution.\n",
        "\n",
        "You can use the\n",
        "[to_dataframe](https://mapdl.docs.pyansys.com/version/0.67/api/commands.html#ansys.mapdl.core.commands.CommandListingOutput) command to convert the output to a Dataframe for more\n",
        "static print:\n"
      ]
    },
    {
      "cell_type": "code",
      "execution_count": null,
      "metadata": {
        "collapsed": false
      },
      "outputs": [],
      "source": [
        "reactForces = mapdl.prrsol(lab=\"FY\").to_dataframe(columns=[\"NODE\", \"FY\"])\n",
        "print(reactForces)"
      ]
    },
    {
      "cell_type": "markdown",
      "metadata": {},
      "source": [
        "The values shown are representative and may vary from the values that\n",
        "you obtain. Many other options are available for reviewing results in\n",
        "the general postprocessor. You can see some of these other options in\n",
        "other tutorials, such. as the [Ansys tutorial guide]().\n"
      ]
    },
    {
      "cell_type": "markdown",
      "metadata": {},
      "source": [
        "Exit Mechanical APDL\n",
        "====================\n",
        "\n",
        "Exit Mechanical APDL once you have finished.\n"
      ]
    },
    {
      "cell_type": "code",
      "execution_count": null,
      "metadata": {
        "collapsed": false
      },
      "outputs": [],
      "source": [
        "mapdl.exit()"
      ]
    },
    {
      "cell_type": "markdown",
      "metadata": {},
      "source": [
        "\n"
      ]
    }
  ],
  "metadata": {
    "kernelspec": {
      "display_name": "Python 3",
      "language": "python",
      "name": "python3"
    },
    "language_info": {
      "codemirror_mode": {
        "name": "ipython",
        "version": 3
      },
      "file_extension": ".py",
      "mimetype": "text/x-python",
      "name": "python",
      "nbconvert_exporter": "python",
      "pygments_lexer": "ipython3",
      "version": "3.10.12"
    }
  },
  "nbformat": 4,
  "nbformat_minor": 0
}
