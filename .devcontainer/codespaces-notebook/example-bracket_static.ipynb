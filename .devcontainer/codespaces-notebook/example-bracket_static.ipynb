{
 "cells": [
  {
   "cell_type": "markdown",
   "metadata": {},
   "source": [
    "Static analysis of a corner bracket\n",
    "===================================\n",
    "\n",
    "This is an example adapted from a classic Ansys APDL tutorial [Static\n",
    "Analysis of a Corner\n",
    "Bracket](https://ansyshelp.ansys.com/account/Secured?returnurl=/Views/Secured/corp/v231/en/ans_tut/structural_cb.html)\n",
    "\n",
    "Problem specification\n",
    "---------------------\n",
    "\n",
    "| Information | Description |\n",
    "|------------------------------|--------------------------------------------------------------------------------------------------------------------------------------------------------------|\n",
    "| Applicable Products | Ansys Multiphysics, Ansys Mechanical, Ansys Structural |\n",
    "| Level of Difficulty: | Easy |\n",
    "| Interactive Time Required: | 60 to 90 minutes |\n",
    "| Discipline: | Structural |\n",
    "| Analysis Type: | Linear static |\n",
    "| Element Types Used: | PLANE183 | \n",
    "| Features Demonstrated: | Solid modeling including primitives, boolean operations, and fillets; tapered pressure load deformed shape and stress displays; listing of reaction forces; |\n",
    "\n",
    "\n",
    "*[PLANE183](https://ansyshelp.ansys.com/account/Secured?returnurl=/Views/Secured/corp/v231/en/ans_elem/Hlp_E_PLANE183.html) \n",
    "\n",
    "**Help Resources:** Structural Static Analysis and [PLANE183](https://ansyshelp.ansys.com/account/Secured?returnurl=/Views/Secured/corp/v231/en/ans_elem/Hlp_E_PLANE183.html)\n",
    "\n",
    "\n",
    "Problem description\n",
    "-------------------\n",
    "\n",
    "This is a simple, single-load-step, structural static analysis of a\n",
    "corner angle bracket. The upper-left pin hole is constrained (welded)\n",
    "around its entire circumference, and a tapered pressure load is applied\n",
    "to the bottom of the lower-right pin hole. The US customary system of\n",
    "units is used. The objective is to demonstrate how Mechanical APDL is\n",
    "typical used in an analysis.\n",
    "\n",
    "### Bracket model\n",
    "\n",
    "The dimensions of the corner bracket are shown in the following figure.\n",
    "The bracket is made of A36 steel with a Young\\'s modulus of $3\\cdot10^7$\n",
    "psi and Poisson\\'s ratio of $0.27$.\n",
    "\n",
    "![**Bracket model\n",
    "dimensions**](https://github.com/ansys/pymapdl/blob/main/doc/source/images/bracket_dimensions.png?raw=true)\n",
    "\n",
    "### Approach and assumptions\n",
    "\n",
    "Because the bracket is thin in the z direction (1/2-inch thickness)\n",
    "compared to its x and y dimensions, and because the pressure load acts\n",
    "only in the x-y plane, assume plane stress for the analysis.\n",
    "\n",
    "The approach is to use solid modeling to generate the 2D model and\n",
    "automatically mesh it with nodes and elements. An alternative approach\n",
    "would be to create the nodes and elements directly.\n"
   ]
  },
  {
   "cell_type": "markdown",
   "metadata": {},
   "source": [
    "Launching MAPDL\n",
    "===============\n"
   ]
  },
  {
   "cell_type": "code",
   "execution_count": 1,
   "metadata": {
    "collapsed": false,
    "jupyter": {
     "outputs_hidden": false
    },
    "tags": []
   },
   "outputs": [],
   "source": [
    "# Plotting settings\n",
    "import pyvista as pv\n",
    "\n",
    "pv.start_xvfb()  # To set xvfb display buffer\n",
    "pv.set_jupyter_backend(\"html\")\n",
    "pv.global_theme.notebook = True"
   ]
  },
  {
   "cell_type": "code",
   "execution_count": 2,
   "metadata": {
    "tags": []
   },
   "outputs": [
    {
     "ename": "LicenseServerConnectionError",
     "evalue": "Exceeded 10 seconds while waiting for /home/mapdl/.ansys/licdebug.bf4f5396e4ab.FEAT_ANSYS.241.out to exist.",
     "output_type": "error",
     "traceback": [
      "\u001b[0;31m---------------------------------------------------------------------------\u001b[0m",
      "\u001b[0;31mMapdlDidNotStart\u001b[0m                          Traceback (most recent call last)",
      "File \u001b[0;32m~/pymapdl/src/ansys/mapdl/core/launcher.py:630\u001b[0m, in \u001b[0;36mlaunch_grpc\u001b[0;34m(exec_file, jobname, nproc, ram, run_location, port, ip, additional_switches, override, timeout, verbose, add_env_vars, replace_env_vars, **kwargs)\u001b[0m\n\u001b[1;32m    629\u001b[0m         LOG\u001b[38;5;241m.\u001b[39mdebug(\u001b[38;5;124m\"\u001b[39m\u001b[38;5;124mChecking if gRPC server is alive.\u001b[39m\u001b[38;5;124m\"\u001b[39m)\n\u001b[0;32m--> 630\u001b[0m         \u001b[43m_check_server_is_alive\u001b[49m\u001b[43m(\u001b[49m\u001b[43mstdout_queue\u001b[49m\u001b[43m,\u001b[49m\u001b[43m \u001b[49m\u001b[43mrun_location\u001b[49m\u001b[43m,\u001b[49m\u001b[43m \u001b[49m\u001b[43mtimeout\u001b[49m\u001b[43m)\u001b[49m\n\u001b[1;32m    632\u001b[0m \u001b[38;5;28;01mexcept\u001b[39;00m MapdlDidNotStart \u001b[38;5;28;01mas\u001b[39;00m e:\n",
      "File \u001b[0;32m~/pymapdl/src/ansys/mapdl/core/launcher.py:697\u001b[0m, in \u001b[0;36m_check_server_is_alive\u001b[0;34m(stdout_queue, run_location, timeout)\u001b[0m\n\u001b[1;32m    696\u001b[0m \u001b[38;5;28;01melse\u001b[39;00m:\n\u001b[0;32m--> 697\u001b[0m     \u001b[38;5;28;01mraise\u001b[39;00m MapdlDidNotStart(\u001b[38;5;124m\"\u001b[39m\u001b[38;5;124mMAPDL failed to start the gRPC server\u001b[39m\u001b[38;5;124m\"\u001b[39m)\n",
      "\u001b[0;31mMapdlDidNotStart\u001b[0m: MAPDL failed to start the gRPC server",
      "\nDuring handling of the above exception, another exception occurred:\n",
      "\u001b[0;31mNameError\u001b[0m                                 Traceback (most recent call last)",
      "File \u001b[0;32m~/pymapdl/src/ansys/mapdl/core/launcher.py:1727\u001b[0m, in \u001b[0;36mlaunch_mapdl\u001b[0;34m(exec_file, run_location, jobname, nproc, ram, mode, override, loglevel, additional_switches, start_timeout, port, cleanup_on_exit, start_instance, ip, clear_on_connect, log_apdl, remove_temp_files, remove_temp_dir_on_exit, verbose_mapdl, license_server_check, license_type, print_com, add_env_vars, replace_env_vars, version, **kwargs)\u001b[0m\n\u001b[1;32m   1726\u001b[0m \u001b[38;5;28;01melif\u001b[39;00m mode \u001b[38;5;241m==\u001b[39m \u001b[38;5;124m\"\u001b[39m\u001b[38;5;124mgrpc\u001b[39m\u001b[38;5;124m\"\u001b[39m:\n\u001b[0;32m-> 1727\u001b[0m     port, actual_run_location, process \u001b[38;5;241m=\u001b[39m \u001b[43mlaunch_grpc\u001b[49m\u001b[43m(\u001b[49m\n\u001b[1;32m   1728\u001b[0m \u001b[43m        \u001b[49m\u001b[43mport\u001b[49m\u001b[38;5;241;43m=\u001b[39;49m\u001b[43mport\u001b[49m\u001b[43m,\u001b[49m\n\u001b[1;32m   1729\u001b[0m \u001b[43m        \u001b[49m\u001b[43mip\u001b[49m\u001b[38;5;241;43m=\u001b[39;49m\u001b[43mip\u001b[49m\u001b[43m,\u001b[49m\n\u001b[1;32m   1730\u001b[0m \u001b[43m        \u001b[49m\u001b[43madd_env_vars\u001b[49m\u001b[38;5;241;43m=\u001b[39;49m\u001b[43madd_env_vars\u001b[49m\u001b[43m,\u001b[49m\n\u001b[1;32m   1731\u001b[0m \u001b[43m        \u001b[49m\u001b[43mreplace_env_vars\u001b[49m\u001b[38;5;241;43m=\u001b[39;49m\u001b[43mreplace_env_vars\u001b[49m\u001b[43m,\u001b[49m\n\u001b[1;32m   1732\u001b[0m \u001b[43m        \u001b[49m\u001b[43mverbose\u001b[49m\u001b[38;5;241;43m=\u001b[39;49m\u001b[43mverbose_mapdl\u001b[49m\u001b[43m,\u001b[49m\n\u001b[1;32m   1733\u001b[0m \u001b[43m        \u001b[49m\u001b[38;5;241;43m*\u001b[39;49m\u001b[38;5;241;43m*\u001b[39;49m\u001b[43mstart_parm\u001b[49m\u001b[43m,\u001b[49m\n\u001b[1;32m   1734\u001b[0m \u001b[43m    \u001b[49m\u001b[43m)\u001b[49m\n\u001b[1;32m   1736\u001b[0m     \u001b[38;5;28;01mif\u001b[39;00m just_launch:\n",
      "File \u001b[0;32m~/pymapdl/src/ansys/mapdl/core/launcher.py:633\u001b[0m, in \u001b[0;36mlaunch_grpc\u001b[0;34m(exec_file, jobname, nproc, ram, run_location, port, ip, additional_switches, override, timeout, verbose, add_env_vars, replace_env_vars, **kwargs)\u001b[0m\n\u001b[1;32m    632\u001b[0m \u001b[38;5;28;01mexcept\u001b[39;00m MapdlDidNotStart \u001b[38;5;28;01mas\u001b[39;00m e:\n\u001b[0;32m--> 633\u001b[0m     msg \u001b[38;5;241m=\u001b[39m \u001b[38;5;28mstr\u001b[39m(e) \u001b[38;5;241m+\u001b[39m \u001b[38;5;124mf\u001b[39m\u001b[38;5;124m\"\u001b[39m\u001b[38;5;130;01m\\n\u001b[39;00m\u001b[38;5;124mRun location: \u001b[39m\u001b[38;5;132;01m{\u001b[39;00mrun_location\u001b[38;5;132;01m}\u001b[39;00m\u001b[38;5;124m\"\u001b[39m \u001b[38;5;241m+\u001b[39m \u001b[38;5;124mf\u001b[39m\u001b[38;5;124m\"\u001b[39m\u001b[38;5;130;01m\\n\u001b[39;00m\u001b[38;5;124mCommand line used: \u001b[39m\u001b[38;5;132;01m{\u001b[39;00m\u001b[43mcmd\u001b[49m\u001b[38;5;132;01m}\u001b[39;00m\u001b[38;5;124m\"\u001b[39m\n\u001b[1;32m    635\u001b[0m     terminal_output \u001b[38;5;241m=\u001b[39m \u001b[38;5;124m\"\u001b[39m\u001b[38;5;130;01m\\n\u001b[39;00m\u001b[38;5;124m\"\u001b[39m\u001b[38;5;241m.\u001b[39mjoin(_get_std_output(std_queue\u001b[38;5;241m=\u001b[39mstdout_queue))\u001b[38;5;241m.\u001b[39mstrip()\n",
      "\u001b[0;31mNameError\u001b[0m: name 'cmd' is not defined",
      "\nDuring handling of the above exception, another exception occurred:\n",
      "\u001b[0;31mLicenseServerConnectionError\u001b[0m              Traceback (most recent call last)",
      "Cell \u001b[0;32mIn[2], line 4\u001b[0m\n\u001b[1;32m      1\u001b[0m \u001b[38;5;66;03m# Importing PyMAPDL\u001b[39;00m\n\u001b[1;32m      2\u001b[0m \u001b[38;5;28;01mfrom\u001b[39;00m \u001b[38;5;21;01mansys\u001b[39;00m\u001b[38;5;21;01m.\u001b[39;00m\u001b[38;5;21;01mmapdl\u001b[39;00m\u001b[38;5;21;01m.\u001b[39;00m\u001b[38;5;21;01mcore\u001b[39;00m \u001b[38;5;28;01mimport\u001b[39;00m launch_mapdl\n\u001b[0;32m----> 4\u001b[0m mapdl \u001b[38;5;241m=\u001b[39m \u001b[43mlaunch_mapdl\u001b[49m\u001b[43m(\u001b[49m\u001b[43m)\u001b[49m\n",
      "File \u001b[0;32m~/pymapdl/src/ansys/mapdl/core/launcher.py:1765\u001b[0m, in \u001b[0;36mlaunch_mapdl\u001b[0;34m(exec_file, run_location, jobname, nproc, ram, mode, override, loglevel, additional_switches, start_timeout, port, cleanup_on_exit, start_instance, ip, clear_on_connect, log_apdl, remove_temp_files, remove_temp_dir_on_exit, verbose_mapdl, license_server_check, license_type, print_com, add_env_vars, replace_env_vars, version, **kwargs)\u001b[0m\n\u001b[1;32m   1763\u001b[0m     \u001b[38;5;28;01mif\u001b[39;00m license_server_check:\n\u001b[1;32m   1764\u001b[0m         LOG\u001b[38;5;241m.\u001b[39mdebug(\u001b[38;5;124m\"\u001b[39m\u001b[38;5;124mChecking license server.\u001b[39m\u001b[38;5;124m\"\u001b[39m)\n\u001b[0;32m-> 1765\u001b[0m         \u001b[43mlic_check\u001b[49m\u001b[38;5;241;43m.\u001b[39;49m\u001b[43mcheck\u001b[49m\u001b[43m(\u001b[49m\u001b[43m)\u001b[49m\n\u001b[1;32m   1767\u001b[0m     \u001b[38;5;28;01mraise\u001b[39;00m exception\n\u001b[1;32m   1769\u001b[0m \u001b[38;5;66;03m# Stopping license checker\u001b[39;00m\n",
      "File \u001b[0;32m~/pymapdl/src/ansys/mapdl/core/licensing.py:191\u001b[0m, in \u001b[0;36mLicenseChecker.check\u001b[0;34m(self)\u001b[0m\n\u001b[1;32m    189\u001b[0m     \u001b[38;5;28;01mreturn\u001b[39;00m \u001b[38;5;28;01mTrue\u001b[39;00m\n\u001b[1;32m    190\u001b[0m \u001b[38;5;28;01melif\u001b[39;00m \u001b[38;5;28mself\u001b[39m\u001b[38;5;241m.\u001b[39m_license_file_success \u001b[38;5;129;01mis\u001b[39;00m \u001b[38;5;28;01mFalse\u001b[39;00m:\n\u001b[0;32m--> 191\u001b[0m     \u001b[38;5;28;01mraise\u001b[39;00m LicenseServerConnectionError(\u001b[38;5;124m\"\u001b[39m\u001b[38;5;130;01m\\n\u001b[39;00m\u001b[38;5;124m\"\u001b[39m\u001b[38;5;241m.\u001b[39mjoin(\u001b[38;5;28mself\u001b[39m\u001b[38;5;241m.\u001b[39m_license_file_msg))\n\u001b[1;32m    193\u001b[0m \u001b[38;5;28;01mif\u001b[39;00m \u001b[38;5;28mself\u001b[39m\u001b[38;5;241m.\u001b[39m_license_checkout_success:\n\u001b[1;32m    194\u001b[0m     \u001b[38;5;28;01mreturn\u001b[39;00m \u001b[38;5;28;01mTrue\u001b[39;00m\n",
      "\u001b[0;31mLicenseServerConnectionError\u001b[0m: Exceeded 10 seconds while waiting for /home/mapdl/.ansys/licdebug.bf4f5396e4ab.FEAT_ANSYS.241.out to exist."
     ]
    }
   ],
   "source": [
    "# Importing PyMAPDL\n",
    "from ansys.mapdl.core import launch_mapdl\n",
    "\n",
    "mapdl = launch_mapdl()"
   ]
  },
  {
   "cell_type": "markdown",
   "metadata": {},
   "source": [
    "Build the geometry\n",
    "==================\n",
    "\n",
    "Define rectangles\n",
    "-----------------\n",
    "\n",
    "There are several ways to create the model geometry within Mechanical\n",
    "APDL, and some are more convenient than others. The first step is to\n",
    "recognize that you can construct the bracket easily with combinations of\n",
    "rectangles and circle primitives.\n",
    "\n",
    "Select an arbitrary global origin location, and then define the\n",
    "rectangle and circle primitives relative to that origin. For this\n",
    "analysis, use the center of the upper-left hole. Begin by defining a\n",
    "rectangle relative to that location.\n",
    "\n",
    "The APDL command [mapdl.prep7()](https://mapdl.docs.pyansys.com/version/0.67/mapdl_commands/session/_autosummary/ansys.mapdl.core.Mapdl.prep7.html#prep7)\n",
    "is used to create a rectangle with `X1`, `X2`, `Y1`, and\n",
    "`Y2` dimensions. In PyMAPDL the [mapdl()](https://mapdl.docs.pyansys.com/version/0.67/api/mapdl.html#ansys.mapdl.core.mapdl._MapdlCore) class\n",
    "is used to call the APDL command.\n",
    "\n",
    "### Dimension box 1\n",
    "\n",
    "Enter the following:\n",
    "\n",
    "```py\n",
    "X1 = 0\n",
    "X2 = 6\n",
    "Y1 = -1\n",
    "Y2 = 1\n",
    "```\n",
    "\n",
    "Or use a Python list to store the dimensions:\n"
   ]
  },
  {
   "cell_type": "code",
   "execution_count": null,
   "metadata": {
    "collapsed": false,
    "jupyter": {
     "outputs_hidden": false
    }
   },
   "outputs": [],
   "source": [
    "box1 = [0, 6, -1, 1]"
   ]
  },
  {
   "cell_type": "markdown",
   "metadata": {},
   "source": [
    "Dimension box 2\n",
    "===============\n",
    "\n",
    "Enter the following:\n"
   ]
  },
  {
   "cell_type": "code",
   "execution_count": null,
   "metadata": {
    "collapsed": false,
    "jupyter": {
     "outputs_hidden": false
    }
   },
   "outputs": [],
   "source": [
    "box2 = [4, 6, -1, -3]"
   ]
  },
  {
   "cell_type": "markdown",
   "metadata": {},
   "source": [
    "The [mapdl.prep7()](https://mapdl.docs.pyansys.com/version/0.67/mapdl_commands/session/_autosummary/ansys.mapdl.core.Mapdl.prep7.html#prep7) command starts the APDL preprocessor to start the build up\n",
    "of the analysis. This is the processor where the model geometry is\n",
    "created.\n"
   ]
  },
  {
   "cell_type": "code",
   "execution_count": null,
   "metadata": {
    "collapsed": false,
    "jupyter": {
     "outputs_hidden": false
    }
   },
   "outputs": [
    {
     "data": {
      "text/plain": [
       "*** MAPDL - ENGINEERING ANALYSIS SYSTEM  RELEASE                  24.1     ***\n",
       " Ansys Mechanical Enterprise Academic Student      \n",
       " 01055371  VERSION=LINUX x64     18:03:56  JAN 30, 2024 CP=      0.475\n",
       "\n",
       "                                                                               \n",
       "\n",
       "\n",
       "\n",
       "          ***** MAPDL ANALYSIS DEFINITION (PREP7) *****"
      ]
     },
     "execution_count": 8,
     "metadata": {},
     "output_type": "execute_result"
    }
   ],
   "source": [
    "mapdl.prep7()"
   ]
  },
  {
   "cell_type": "markdown",
   "metadata": {},
   "source": [
    "Parameterize as much as possible, taking advantage of Python features\n",
    "such as the Python `list` or `dict` class. \n",
    "Good practice would be to have all parameters near or at the top of the input\n",
    "file. However, for this interactive tutorial, they are inline.\n"
   ]
  },
  {
   "cell_type": "code",
   "execution_count": null,
   "metadata": {
    "collapsed": false,
    "jupyter": {
     "outputs_hidden": false
    }
   },
   "outputs": [
    {
     "data": {
      "text/plain": [
       "1"
      ]
     },
     "execution_count": 9,
     "metadata": {},
     "output_type": "execute_result"
    }
   ],
   "source": [
    "# build your cubes\n",
    "mapdl.rectng(box1[0], box1[1], box1[2], box1[3])"
   ]
  },
  {
   "cell_type": "markdown",
   "metadata": {},
   "source": [
    "In Python, you can use the `*` to unpack an object in a function call.\n",
    "For example:\n"
   ]
  },
  {
   "cell_type": "code",
   "execution_count": null,
   "metadata": {
    "collapsed": false,
    "jupyter": {
     "outputs_hidden": false
    }
   },
   "outputs": [
    {
     "data": {
      "text/plain": [
       "2"
      ]
     },
     "execution_count": 10,
     "metadata": {},
     "output_type": "execute_result"
    }
   ],
   "source": [
    "mapdl.rectng(*box2)  # prints the id of the created area"
   ]
  },
  {
   "cell_type": "markdown",
   "metadata": {},
   "source": [
    "Plot areas\n",
    "==========\n",
    "\n",
    "PyMAPDL plots can be controlled through arguments passed to the different plot methods, such as [mapdl.aplot()](https://mapdl.docs.pyansys.com/version/0.67/api/_autosummary/ansys.mapdl.core.Mapdl.aplot.html#aplot)\n",
    "\n",
    "The area plot shows both rectangles, which are areas, in the same color.\n",
    "To more clearly distinguish between areas, turn on area numbers.\n",
    "For more information, see the\n",
    "[mapdl.aplot()](https://mapdl.docs.pyansys.com/version/0.67/api/_autosummary/ansys.mapdl.core.Mapdl.aplot.html#aplot) method.\n",
    "\n"
   ]
  },
  {
   "cell_type": "code",
   "execution_count": null,
   "metadata": {
    "collapsed": false,
    "jupyter": {
     "outputs_hidden": false
    }
   },
   "outputs": [
    {
     "data": {
      "application/vnd.jupyter.widget-view+json": {
       "model_id": "a372c4eb711745189a89d90af8bf5cb3",
       "version_major": 2,
       "version_minor": 0
      },
      "text/plain": [
       "Widget(value='<iframe src=\"http://localhost:45895/index.html?ui=P_0x7f4a37528a00_2&reconnect=auto\" class=\"pyvi…"
      ]
     },
     "metadata": {},
     "output_type": "display_data"
    }
   ],
   "source": [
    "mapdl.aplot(cpos=\"xy\", show_lines=True)"
   ]
  },
  {
   "cell_type": "markdown",
   "metadata": {},
   "source": [
    "Create first circle\n",
    "===================\n",
    "\n",
    "With the use of logic and Boolean geometrical operations, you can use\n",
    "the original geometric parameters (`box1`, `box2`) to locate the\n",
    "circles.\n",
    "\n",
    "Create the half circle at each end of the bracket. You first create a\n",
    "full circle on each end and then combine the circles and rectangles with\n",
    "a Boolean add operation (discussed in [Subtract pin holes from\n",
    "bracket]()).\n",
    "\n",
    "The APDL command to create the circles is [mapdl.cyl4()](https://mapdl.docs.pyansys.com/version/0.67/mapdl_commands/prep7/_autosummary/ansys.mapdl.core.Mapdl.cyl4.html#cyl4)\n",
    "\n",
    "The first circle area is located on the left side at the X,Y location,\n",
    "and its radius is $1$.\n"
   ]
  },
  {
   "cell_type": "code",
   "execution_count": null,
   "metadata": {
    "collapsed": false,
    "jupyter": {
     "outputs_hidden": false
    }
   },
   "outputs": [
    {
     "data": {
      "application/vnd.jupyter.widget-view+json": {
       "model_id": "d2e7cf278c564efa92346855f32e124c",
       "version_major": 2,
       "version_minor": 0
      },
      "text/plain": [
       "Widget(value='<iframe src=\"http://localhost:45895/index.html?ui=P_0x7f4a3752b8e0_3&reconnect=auto\" class=\"pyvi…"
      ]
     },
     "metadata": {},
     "output_type": "display_data"
    }
   ],
   "source": [
    "# Create first circle\n",
    "radius = 1\n",
    "circle1_X = box1[0]\n",
    "circle1_Y = (box1[2] + box1[3]) / 2\n",
    "mapdl.cyl4(circle1_X, circle1_Y, radius)\n",
    "\n",
    "mapdl.aplot(vtk=True, cpos=\"xy\", show_lines=True)"
   ]
  },
  {
   "cell_type": "markdown",
   "metadata": {},
   "source": [
    "Create second circle\n",
    "====================\n",
    "\n",
    "Create the second circle at the X,Y location:\n"
   ]
  },
  {
   "cell_type": "code",
   "execution_count": null,
   "metadata": {
    "collapsed": false,
    "jupyter": {
     "outputs_hidden": false
    }
   },
   "outputs": [],
   "source": [
    "circle2_X = (box2[0] + box2[1]) / 2\n",
    "circle2_Y = box2[3]"
   ]
  },
  {
   "cell_type": "markdown",
   "metadata": {},
   "source": [
    "Use these parameter values to create the new area with the same radius\n",
    "of $1$ as the first circle area.\n"
   ]
  },
  {
   "cell_type": "code",
   "execution_count": null,
   "metadata": {
    "collapsed": false,
    "jupyter": {
     "outputs_hidden": false
    }
   },
   "outputs": [
    {
     "data": {
      "application/vnd.jupyter.widget-view+json": {
       "model_id": "2f429ca709374918a900e0922e4c9853",
       "version_major": 2,
       "version_minor": 0
      },
      "text/plain": [
       "Widget(value='<iframe src=\"http://localhost:45895/index.html?ui=P_0x7f4a32f4a5c0_4&reconnect=auto\" class=\"pyvi…"
      ]
     },
     "metadata": {},
     "output_type": "display_data"
    }
   ],
   "source": [
    "mapdl.cyl4(circle2_X, circle2_Y, radius)\n",
    "mapdl.aplot(vtk=True, cpos=\"xy\", show_lines=True)"
   ]
  },
  {
   "cell_type": "markdown",
   "metadata": {},
   "source": [
    "Add areas\n",
    "=========\n",
    "\n",
    "Now that the appropriate pieces of the model (rectangles and circles)\n",
    "are defined, add them together so the model becomes one continuous area.\n",
    "Use the Boolean add operation [mapdl.aadd()](https://mapdl.docs.pyansys.com/version/0.67/mapdl_commands/prep7/_autosummary/ansys.mapdl.core.Mapdl.aadd.html#aadd) to add the areas together.\n",
    "\n",
    "Use the `all` argument to add all areas.\n"
   ]
  },
  {
   "cell_type": "code",
   "execution_count": null,
   "metadata": {
    "collapsed": false,
    "jupyter": {
     "outputs_hidden": false
    }
   },
   "outputs": [
    {
     "data": {
      "text/plain": [
       "5"
      ]
     },
     "execution_count": 17,
     "metadata": {},
     "output_type": "execute_result"
    }
   ],
   "source": [
    "mapdl.aadd(\"all\")  # Prints the ID of the created area"
   ]
  },
  {
   "cell_type": "markdown",
   "metadata": {},
   "source": [
    "Create line fillet\n",
    "==================\n",
    "\n",
    "The right angle between the two boxes can be improved using a fillet\n",
    "with a radius of $0.4$. You can do this by selecting the lines around\n",
    "this area and creating the fillet.\n",
    "\n",
    "Use the APDL [mapdl.lsel()](https://mapdl.docs.pyansys.com/version/0.67/mapdl_commands/database/_autosummary/ansys.mapdl.core.Mapdl.lsel.html#lsel) method to select lines. Here, the X and Y locations of the\n",
    "lines are used to create the boxes for creating your selection.\n",
    "\n",
    "After selecting the line, you need to write it to a parameter so you can\n",
    "use it to generate the fillet line. This is done using the\n",
    "[mapdl.get()](https://mapdl.docs.pyansys.com/version/0.67/api/_autosummary/ansys.mapdl.core.Mapdl.get.html#get) method.\n",
    "\n",
    "Because you have selected one line, you can use the `MAX` and `NUM`\n",
    "arguments for the [mapdl.get()](https://mapdl.docs.pyansys.com/version/0.67/api/_autosummary/ansys.mapdl.core.Mapdl.get.html#get) method.\n",
    "\n",
    "Select first line for fillet\n"
   ]
  },
  {
   "cell_type": "code",
   "execution_count": null,
   "metadata": {
    "collapsed": false,
    "jupyter": {
     "outputs_hidden": false
    }
   },
   "outputs": [],
   "source": [
    "line1 = mapdl.lsel(\"S\", \"LOC\", \"Y\", box1[2])\n",
    "l1 = mapdl.get(\"line1\", \"LINE\", 0, \"NUM\", \"MAX\")"
   ]
  },
  {
   "cell_type": "markdown",
   "metadata": {},
   "source": [
    "If you write the command to a Python parameter (`line1`), you can use\n",
    "either the APDL parameter `l1` or the Python parameter `line1` when you\n",
    "create the fillet line.\n",
    "\n",
    "Select second line for fillet and create Python parameter\n"
   ]
  },
  {
   "cell_type": "code",
   "execution_count": null,
   "metadata": {
    "collapsed": false,
    "jupyter": {
     "outputs_hidden": false
    }
   },
   "outputs": [],
   "source": [
    "line2 = mapdl.lsel(\"S\", \"LOC\", \"X\", box2[0])\n",
    "l2 = mapdl.get(\"line2\", \"LINE\", 0, \"NUM\", \"MAX\")"
   ]
  },
  {
   "cell_type": "markdown",
   "metadata": {},
   "source": [
    "Once you have both lines selected, you can use the PyMAPDL command\n",
    "[mapdl.lfillt()](https://mapdl.docs.pyansys.com/version/0.67/mapdl_commands/prep7/_autosummary/ansys.mapdl.core.Mapdl.lfillt.html#lfillt) to generate the fillet between the lines.\n",
    "\n",
    "**Note** that Python could return a list if more than one line is\n",
    "selected.\n"
   ]
  },
  {
   "cell_type": "markdown",
   "metadata": {},
   "source": [
    "Here you use a mix of the APDL parameter as a string `line1` and the\n",
    "`l2` Python parameter to create the fillet line.\n",
    "\n",
    "Create fillet line using selected line (parameter names)\n"
   ]
  },
  {
   "cell_type": "code",
   "execution_count": null,
   "metadata": {
    "collapsed": false,
    "jupyter": {
     "outputs_hidden": false
    }
   },
   "outputs": [
    {
     "data": {
      "application/vnd.jupyter.widget-view+json": {
       "model_id": "f29428d770f947b4bca59b1475876144",
       "version_major": 2,
       "version_minor": 0
      },
      "text/plain": [
       "Widget(value='<iframe src=\"http://localhost:45895/index.html?ui=P_0x7f4a26757f10_5&reconnect=auto\" class=\"pyvi…"
      ]
     },
     "metadata": {},
     "output_type": "display_data"
    }
   ],
   "source": [
    "fillet_radius = 0.4\n",
    "mapdl.allsel()\n",
    "line3 = mapdl.lfillt(\"line1\", l2, fillet_radius)\n",
    "\n",
    "mapdl.allsel()\n",
    "mapdl.lplot(vtk=True, cpos=\"xy\")"
   ]
  },
  {
   "cell_type": "markdown",
   "metadata": {},
   "source": [
    "Create fillet area\n",
    "==================\n",
    "\n",
    "To create the area delineated by `line1`, `line2`, and newly created\n",
    "`line3`, use the\n",
    "[mapdl.al()](https://mapdl.docs.pyansys.com/version/0.67/mapdl_commands/prep7/_autosummary/ansys.mapdl.core.Mapdl.al.html#al)\n",
    "method. The three lines are the input. If you select them all, you can\n",
    "use the `'ALL'` argument to create the area.\n",
    "\n",
    "First you have to reselect the newly created lines in the fillet area.\n",
    "To do this, you can use the `fillet_radius` parameter and the\n",
    "[mapdl.lsel()](https://mapdl.docs.pyansys.com/version/0.67/mapdl_commands/database/_autosummary/ansys.mapdl.core.Mapdl.lsel.html#lsel) command.\n",
    "\n",
    "For the two newly created straight lines, the length is the same as the\n",
    "`fillet_radius` value. Thus, you can use the length argument with the\n",
    "[mapdl.lsel()](https://mapdl.docs.pyansys.com/version/0.67/mapdl_commands/database/_autosummary/ansys.mapdl.core.Mapdl.lsel.html#lsel) command.\n"
   ]
  },
  {
   "cell_type": "code",
   "execution_count": null,
   "metadata": {
    "collapsed": false,
    "jupyter": {
     "outputs_hidden": false
    }
   },
   "outputs": [
    {
     "data": {
      "text/plain": [
       "array([4, 5], dtype=int32)"
      ]
     },
     "execution_count": 21,
     "metadata": {},
     "output_type": "execute_result"
    }
   ],
   "source": [
    "mapdl.allsel()\n",
    "\n",
    "# Select lines for the area\n",
    "mapdl.lsel(\"S\", \"LENGTH\", \"\", fillet_radius)"
   ]
  },
  {
   "cell_type": "markdown",
   "metadata": {},
   "source": [
    "Additionally, you need to get the fillet line itself (`line3`). You can\n",
    "use the [mapdl.lsel()](https://mapdl.docs.pyansys.com/version/0.67/mapdl_commands/database/_autosummary/ansys.mapdl.core.Mapdl.lsel.html#lsel) command again with either the `'RADIUS'` argument if there\n",
    "is only one line with that radius in the model or more directly use the\n",
    "parameter name of the line. Note the `'A'` to additionally select items.\n"
   ]
  },
  {
   "cell_type": "code",
   "execution_count": null,
   "metadata": {
    "collapsed": false,
    "jupyter": {
     "outputs_hidden": false
    }
   },
   "outputs": [
    {
     "data": {
      "application/vnd.jupyter.widget-view+json": {
       "model_id": "697461d52d0d4104b0ee6d60e18f1054",
       "version_major": 2,
       "version_minor": 0
      },
      "text/plain": [
       "Widget(value='<iframe src=\"http://localhost:45895/index.html?ui=P_0x7f4a267a3970_6&reconnect=auto\" class=\"pyvi…"
      ]
     },
     "metadata": {},
     "output_type": "display_data"
    }
   ],
   "source": [
    "mapdl.lsel(\"A\", \"LINE\", \"\", line3)\n",
    "\n",
    "# plotting ares\n",
    "mapdl.lplot(vtk=True, cpos=\"xy\", show_line_numbering=True)"
   ]
  },
  {
   "cell_type": "markdown",
   "metadata": {},
   "source": [
    "Then use [mapdl.al()](https://mapdl.docs.pyansys.com/version/0.67/mapdl_commands/prep7/_autosummary/ansys.mapdl.core.Mapdl.al.html#al) command to create the areas from the lines.\n"
   ]
  },
  {
   "cell_type": "code",
   "execution_count": null,
   "metadata": {
    "collapsed": false,
    "jupyter": {
     "outputs_hidden": false
    }
   },
   "outputs": [
    {
     "data": {
      "text/plain": [
       "1"
      ]
     },
     "execution_count": 23,
     "metadata": {},
     "output_type": "execute_result"
    }
   ],
   "source": [
    "# Create the area\n",
    "mapdl.al(\"ALL\")  # Prints the ID of the newly created area"
   ]
  },
  {
   "cell_type": "markdown",
   "metadata": {},
   "source": [
    "Add areas together\n",
    "==================\n",
    "\n",
    "Append all areas again with the\n",
    "[mapdl.aadd()](https://mapdl.docs.pyansys.com/version/0.67/mapdl_commands/prep7/_autosummary/ansys.mapdl.core.Mapdl.aadd.html#aadd). Because you have only the two areas to combine, use the\n",
    "`'ALL'` argument.\n"
   ]
  },
  {
   "cell_type": "code",
   "execution_count": null,
   "metadata": {
    "collapsed": false,
    "jupyter": {
     "outputs_hidden": false
    }
   },
   "outputs": [
    {
     "data": {
      "application/vnd.jupyter.widget-view+json": {
       "model_id": "11e0369419f34cb387860d8a83aa81a2",
       "version_major": 2,
       "version_minor": 0
      },
      "text/plain": [
       "Widget(value='<iframe src=\"http://localhost:45895/index.html?ui=P_0x7f4a20ce1ea0_7&reconnect=auto\" class=\"pyvi…"
      ]
     },
     "metadata": {},
     "output_type": "display_data"
    }
   ],
   "source": [
    "# Add the area to the main area\n",
    "mapdl.aadd(\"all\")\n",
    "mapdl.aplot(vtk=True, cpos=\"xy\", show_lines=True)"
   ]
  },
  {
   "cell_type": "markdown",
   "metadata": {},
   "source": [
    "Create first pin hole\n",
    "=====================\n",
    "\n",
    "The first pin hole is located at the left side of the first box. Thus,\n",
    "you can use the box dimensions to locate your new circle.\n",
    "\n",
    "The X value (center) of the pin hole is at the first coordinate of the\n",
    "`box1` (`X1`). The Y value is the average of the two `box1` Y values:\n"
   ]
  },
  {
   "cell_type": "code",
   "execution_count": null,
   "metadata": {
    "collapsed": false,
    "jupyter": {
     "outputs_hidden": false
    }
   },
   "outputs": [],
   "source": [
    "# Create the first pinhole\n",
    "pinhole_radius = 0.4\n",
    "pinhole1_X = box1[0]\n",
    "pinhole1_Y = (box1[2] + box1[3]) / 2\n",
    "\n",
    "pinhole1 = mapdl.cyl4(pinhole1_X, pinhole1_Y, pinhole_radius)"
   ]
  },
  {
   "cell_type": "markdown",
   "metadata": {},
   "source": [
    "Because you have two pin hole circles, you use the command twice.\n",
    "\n",
    "**Note**\n",
    "\n",
    "Some of these areas are set to parameters to use later in the analysis.\n",
    "This allows you to use the lines to create the areas with the\n",
    "[mapdl.asll()](https://mapdl.docs.pyansys.com/version/0.67/mapdl_commands/database/_autosummary/ansys.mapdl.core.Mapdl.asll.html#asll) command.\n"
   ]
  },
  {
   "cell_type": "markdown",
   "metadata": {},
   "source": [
    "Create second pin hole\n",
    "======================\n",
    "\n",
    "The second pin hole is located at the bottom of the second box, so again\n",
    "we can use the box 2 dimensions to locate the circle. For this pinhole\n",
    "the dimensions are:\n"
   ]
  },
  {
   "cell_type": "code",
   "execution_count": null,
   "metadata": {
    "collapsed": false,
    "jupyter": {
     "outputs_hidden": false
    }
   },
   "outputs": [],
   "source": [
    "pinhole2_X = (box2[0] + box2[1]) / 2\n",
    "pinhole2_Y = box2[3]\n",
    "\n",
    "pinhole2 = mapdl.cyl4(pinhole2_X, pinhole2_Y, pinhole_radius)\n",
    "pinhole2_lines = mapdl.asll(\"S\", 0)"
   ]
  },
  {
   "cell_type": "markdown",
   "metadata": {},
   "source": [
    "Subtract pin holes from bracket\n",
    "===============================\n",
    "\n",
    "If you use the\n",
    "[mapdl.aplot()](https://mapdl.docs.pyansys.com/version/0.67/api/_autosummary/ansys.mapdl.core.Mapdl.aplot.html#aplot) command with lines, at this point, you have created two\n",
    "circle areas overlapping the bracket. You can use the\n",
    "[mapdl.asba()](https://mapdl.docs.pyansys.com/version/0.67/mapdl_commands/prep7/_autosummary/ansys.mapdl.core.Mapdl.asba.html#asba) command, which is the Boolean command to subtract areas, to\n",
    "remove the circles from the bracket.\n"
   ]
  },
  {
   "cell_type": "code",
   "execution_count": null,
   "metadata": {
    "collapsed": false,
    "jupyter": {
     "outputs_hidden": false
    }
   },
   "outputs": [
    {
     "data": {
      "application/vnd.jupyter.widget-view+json": {
       "model_id": "60c847d033f447de9b6936845145d5aa",
       "version_major": 2,
       "version_minor": 0
      },
      "text/plain": [
       "Widget(value='<iframe src=\"http://localhost:45895/index.html?ui=P_0x7f4a20dc9000_8&reconnect=auto\" class=\"pyvi…"
      ]
     },
     "metadata": {},
     "output_type": "display_data"
    }
   ],
   "source": [
    "# Remove pin hole areas from bracket\n",
    "mapdl.asba(\"all\", pinhole1)\n",
    "bracket = mapdl.asba(\"all\", pinhole2)\n",
    "mapdl.aplot(vtk=True, show_lines=True, cpos=\"xy\")"
   ]
  },
  {
   "cell_type": "markdown",
   "metadata": {},
   "source": [
    "Model definition\n",
    "================\n",
    "\n",
    "Define material properties\n",
    "--------------------------\n",
    "\n",
    "There is only one material property to define for the bracket, A36\n",
    "Steel, with given values for the Young\\'s modulus of elasticity and\n",
    "Poisson\\'s ratio.\n"
   ]
  },
  {
   "cell_type": "code",
   "execution_count": null,
   "metadata": {
    "collapsed": false,
    "jupyter": {
     "outputs_hidden": false
    }
   },
   "outputs": [],
   "source": [
    "ex = 30e6  # Young's Modulus\n",
    "prxy = 0.27  # Poisson's ratio"
   ]
  },
  {
   "cell_type": "markdown",
   "metadata": {},
   "source": [
    "Use the [mapdl.mp()](https://mapdl.docs.pyansys.com/version/0.67/mapdl_commands/prep7/_autosummary/ansys.mapdl.core.Mapdl.mp.html#mp) command to define material properties in PyMAPDL.\n"
   ]
  },
  {
   "cell_type": "code",
   "execution_count": null,
   "metadata": {
    "collapsed": false,
    "jupyter": {
     "outputs_hidden": false
    }
   },
   "outputs": [
    {
     "ename": "MapdlRuntimeError",
     "evalue": "\n\nError in instance GRPC_127.0.0.1:50052\n\n*** ERROR ***                           CP =       4.295   TIME= 18:08:21\n The option of EX on the MP command is either not available for this     \n version of Ansys or the appropriate product was not selected for this   \n session.                                                                \n  Contact your Ansys support person for more information.",
     "output_type": "error",
     "traceback": [
      "\u001b[0;31m---------------------------------------------------------------------------\u001b[0m",
      "\u001b[0;31mMapdlRuntimeError\u001b[0m                         Traceback (most recent call last)",
      "Cell \u001b[0;32mIn[29], line 1\u001b[0m\n\u001b[0;32m----> 1\u001b[0m \u001b[43mmapdl\u001b[49m\u001b[38;5;241;43m.\u001b[39;49m\u001b[43mmp\u001b[49m\u001b[43m(\u001b[49m\u001b[38;5;124;43m\"\u001b[39;49m\u001b[38;5;124;43mEX\u001b[39;49m\u001b[38;5;124;43m\"\u001b[39;49m\u001b[43m,\u001b[49m\u001b[43m \u001b[49m\u001b[38;5;241;43m1\u001b[39;49m\u001b[43m,\u001b[49m\u001b[43m \u001b[49m\u001b[43mex\u001b[49m\u001b[43m)\u001b[49m\n\u001b[1;32m      2\u001b[0m mapdl\u001b[38;5;241m.\u001b[39mmp(\u001b[38;5;124m\"\u001b[39m\u001b[38;5;124mPRXY\u001b[39m\u001b[38;5;124m\"\u001b[39m, \u001b[38;5;241m1\u001b[39m, prxy)\n",
      "File \u001b[0;32m~/pymapdl/src/ansys/mapdl/core/_commands/preproc/materials.py:267\u001b[0m, in \u001b[0;36mMaterials.mp\u001b[0;34m(self, lab, mat, c0, c1, c2, c3, c4, **kwargs)\u001b[0m\n\u001b[1;32m     79\u001b[0m \u001b[38;5;250m\u001b[39m\u001b[38;5;124;03m\"\"\"APDL Command: MP\u001b[39;00m\n\u001b[1;32m     80\u001b[0m \n\u001b[1;32m     81\u001b[0m \u001b[38;5;124;03mDefines a linear material property as a constant or a function of\u001b[39;00m\n\u001b[0;32m   (...)\u001b[0m\n\u001b[1;32m    256\u001b[0m \u001b[38;5;124;03mthat ``N`` = 4.\u001b[39;00m\n\u001b[1;32m    257\u001b[0m \u001b[38;5;124;03m\"\"\"\u001b[39;00m\n\u001b[1;32m    258\u001b[0m command \u001b[38;5;241m=\u001b[39m \u001b[38;5;124m\"\u001b[39m\u001b[38;5;124mMP,\u001b[39m\u001b[38;5;132;01m%s\u001b[39;00m\u001b[38;5;124m,\u001b[39m\u001b[38;5;132;01m%s\u001b[39;00m\u001b[38;5;124m,\u001b[39m\u001b[38;5;132;01m%s\u001b[39;00m\u001b[38;5;124m,\u001b[39m\u001b[38;5;132;01m%s\u001b[39;00m\u001b[38;5;124m,\u001b[39m\u001b[38;5;132;01m%s\u001b[39;00m\u001b[38;5;124m,\u001b[39m\u001b[38;5;132;01m%s\u001b[39;00m\u001b[38;5;124m,\u001b[39m\u001b[38;5;132;01m%s\u001b[39;00m\u001b[38;5;124m\"\u001b[39m \u001b[38;5;241m%\u001b[39m (\n\u001b[1;32m    259\u001b[0m     \u001b[38;5;28mstr\u001b[39m(lab),\n\u001b[1;32m    260\u001b[0m     \u001b[38;5;28mstr\u001b[39m(mat),\n\u001b[0;32m   (...)\u001b[0m\n\u001b[1;32m    265\u001b[0m     \u001b[38;5;28mstr\u001b[39m(c4),\n\u001b[1;32m    266\u001b[0m )\n\u001b[0;32m--> 267\u001b[0m \u001b[38;5;28;01mreturn\u001b[39;00m \u001b[38;5;28;43mself\u001b[39;49m\u001b[38;5;241;43m.\u001b[39;49m\u001b[43mrun\u001b[49m\u001b[43m(\u001b[49m\u001b[43mcommand\u001b[49m\u001b[43m,\u001b[49m\u001b[43m \u001b[49m\u001b[38;5;241;43m*\u001b[39;49m\u001b[38;5;241;43m*\u001b[39;49m\u001b[43mkwargs\u001b[49m\u001b[43m)\u001b[49m\n",
      "File \u001b[0;32m~/pymapdl/src/ansys/mapdl/core/mapdl_core.py:2236\u001b[0m, in \u001b[0;36m_MapdlCore.run\u001b[0;34m(self, command, write_to_log, mute, **kwargs)\u001b[0m\n\u001b[1;32m   2233\u001b[0m     \u001b[38;5;28;01mreturn\u001b[39;00m \u001b[38;5;28mself\u001b[39m\u001b[38;5;241m.\u001b[39m_response\n\u001b[1;32m   2235\u001b[0m \u001b[38;5;28;01mif\u001b[39;00m \u001b[38;5;129;01mnot\u001b[39;00m \u001b[38;5;28mself\u001b[39m\u001b[38;5;241m.\u001b[39mignore_errors:\n\u001b[0;32m-> 2236\u001b[0m     \u001b[38;5;28;43mself\u001b[39;49m\u001b[38;5;241;43m.\u001b[39;49m\u001b[43m_raise_errors\u001b[49m\u001b[43m(\u001b[49m\u001b[43mtext\u001b[49m\u001b[43m)\u001b[49m\n\u001b[1;32m   2238\u001b[0m \u001b[38;5;66;03m# special returns for certain geometry commands\u001b[39;00m\n\u001b[1;32m   2239\u001b[0m \u001b[38;5;28;01mif\u001b[39;00m short_cmd \u001b[38;5;129;01min\u001b[39;00m PLOT_COMMANDS:\n",
      "File \u001b[0;32m~/pymapdl/src/ansys/mapdl/core/mapdl_core.py:2697\u001b[0m, in \u001b[0;36m_MapdlCore._raise_errors\u001b[0;34m(self, text)\u001b[0m\n\u001b[1;32m   2695\u001b[0m \u001b[38;5;66;03m# flag errors\u001b[39;00m\n\u001b[1;32m   2696\u001b[0m \u001b[38;5;28;01mif\u001b[39;00m \u001b[38;5;124m\"\u001b[39m\u001b[38;5;124m*** ERROR ***\u001b[39m\u001b[38;5;124m\"\u001b[39m \u001b[38;5;129;01min\u001b[39;00m flat_text:\n\u001b[0;32m-> 2697\u001b[0m     \u001b[38;5;28;43mself\u001b[39;49m\u001b[38;5;241;43m.\u001b[39;49m\u001b[43m_raise_output_errors\u001b[49m\u001b[43m(\u001b[49m\u001b[43mtext\u001b[49m\u001b[43m)\u001b[49m\n",
      "File \u001b[0;32m~/pymapdl/src/ansys/mapdl/core/mapdl_core.py:2774\u001b[0m, in \u001b[0;36m_MapdlCore._raise_output_errors\u001b[0;34m(self, response)\u001b[0m\n\u001b[1;32m   2768\u001b[0m     \u001b[38;5;28;01mcontinue\u001b[39;00m\n\u001b[1;32m   2769\u001b[0m \u001b[38;5;28;01melse\u001b[39;00m:\n\u001b[1;32m   2770\u001b[0m     \u001b[38;5;66;03m# We don't need to log exception because they already included in the main logger.\u001b[39;00m\n\u001b[1;32m   2771\u001b[0m     \u001b[38;5;66;03m# logger.error(response)\u001b[39;00m\n\u001b[1;32m   2772\u001b[0m     \u001b[38;5;66;03m# However, exceptions are recorded in the global logger which do not record\u001b[39;00m\n\u001b[1;32m   2773\u001b[0m     \u001b[38;5;66;03m# information of the instances name, hence we edit the error message.\u001b[39;00m\n\u001b[0;32m-> 2774\u001b[0m     \u001b[38;5;28;01mraise\u001b[39;00m MapdlRuntimeError(\n\u001b[1;32m   2775\u001b[0m         \u001b[38;5;124mf\u001b[39m\u001b[38;5;124m\"\u001b[39m\u001b[38;5;130;01m\\n\u001b[39;00m\u001b[38;5;130;01m\\n\u001b[39;00m\u001b[38;5;124mError in instance \u001b[39m\u001b[38;5;132;01m{\u001b[39;00m\u001b[38;5;28mself\u001b[39m\u001b[38;5;241m.\u001b[39mname\u001b[38;5;132;01m}\u001b[39;00m\u001b[38;5;130;01m\\n\u001b[39;00m\u001b[38;5;130;01m\\n\u001b[39;00m\u001b[38;5;124m\"\u001b[39m \u001b[38;5;241m+\u001b[39m error_message\n\u001b[1;32m   2776\u001b[0m     )\n",
      "\u001b[0;31mMapdlRuntimeError\u001b[0m: \n\nError in instance GRPC_127.0.0.1:50052\n\n*** ERROR ***                           CP =       4.295   TIME= 18:08:21\n The option of EX on the MP command is either not available for this     \n version of Ansys or the appropriate product was not selected for this   \n session.                                                                \n  Contact your Ansys support person for more information."
     ]
    }
   ],
   "source": [
    "mapdl.mp(\"EX\", 1, ex)\n",
    "mapdl.mp(\"PRXY\", 1, prxy)"
   ]
  },
  {
   "cell_type": "markdown",
   "metadata": {},
   "source": [
    "Define element types and options\n",
    "================================\n",
    "\n",
    "You use the [mapdl.et()](https://mapdl.docs.pyansys.com/version/0.67/mapdl_commands/prep7/_autosummary/ansys.mapdl.core.Mapdl.et.html#et) command to select an element .\n",
    "\n",
    "In any analysis, you select elements from a library of element types and\n",
    "define the appropriate ones for the analysis. In this case, only one\n",
    "element type is used: [PLANE183](https://ansyshelp.ansys.com/account/Secured?returnurl=/Views/Secured/corp/v231/en/ans_elem/Hlp_E_PLANE183.html), a 2D, quadratic, structural,\n",
    "higher-order element.\n",
    "\n",
    "A higher-order element enables you to have a coarser mesh than with\n",
    "lower-order elements while still maintaining solution accuracy. Also,\n",
    "Mechanical APDL generates some triangle-shaped elements in the mesh that\n",
    "would otherwise be inaccurate when using lower-order elements.\n",
    "\n",
    "Options for PLANE183\n",
    "--------------------\n",
    "\n",
    "Specify plane stress with thickness as an option for [PLANE183](https://ansyshelp.ansys.com/account/Secured?returnurl=/Views/Secured/corp/v231/en/ans_elem/Hlp_E_PLANE183.html).\n",
    "(Thickness is defined as a real constant in [Define real constants](#define-real-constants)).\n",
    "Select plane stress with the thickness option for the element behavior.\n",
    "The thickness option is set using the element keyoption 3. For more\n",
    "information, see the [PLANE183](https://ansyshelp.ansys.com/account/Secured?returnurl=/Views/Secured/corp/v231/en/ans_elem/Hlp_E_PLANE183.html) element definition in the Ansys Help.\n"
   ]
  },
  {
   "cell_type": "code",
   "execution_count": null,
   "metadata": {
    "collapsed": false,
    "jupyter": {
     "outputs_hidden": false
    }
   },
   "outputs": [
    {
     "data": {
      "text/plain": [
       "1"
      ]
     },
     "execution_count": 25,
     "metadata": {},
     "output_type": "execute_result"
    }
   ],
   "source": [
    "# define a ``PLANE183`` element type with thickness\n",
    "mapdl.et(1, \"PLANE183\", kop3=3)"
   ]
  },
  {
   "cell_type": "markdown",
   "metadata": {},
   "source": [
    "Define real constants\n",
    "=====================\n",
    "\n",
    "Assuming plane stress with thickness, enter the thickness as a real\n",
    "constant for [PLANE183](https://ansyshelp.ansys.com/account/Secured?returnurl=/Views/Secured/corp/v231/en/ans_elem/Hlp_E_PLANE183.html):\n",
    "\n",
    "You use the [mapdl.r()](https://mapdl.docs.pyansys.com/version/0.67/mapdl_commands/prep7/_autosummary/ansys.mapdl.core.Mapdl.r.html#r) command to set real constants.\n"
   ]
  },
  {
   "cell_type": "code",
   "execution_count": null,
   "metadata": {
    "collapsed": false,
    "jupyter": {
     "outputs_hidden": false
    }
   },
   "outputs": [
    {
     "data": {
      "text/plain": [
       "REAL CONSTANT SET          1  ITEMS   1 TO   6\n",
       "   0.50000       0.0000       0.0000       0.0000       0.0000       0.0000"
      ]
     },
     "execution_count": 26,
     "metadata": {},
     "output_type": "execute_result"
    }
   ],
   "source": [
    "# Set element thickness\n",
    "thick = 0.5\n",
    "mapdl.r(1, thick)  # thickness of 0.5 length units)"
   ]
  },
  {
   "cell_type": "markdown",
   "metadata": {},
   "source": [
    "Mesh\n",
    "====\n",
    "\n",
    "You can mesh the model without specifying mesh-size controls. If you are\n",
    "unsure of how to determine mesh density, you can allow Mechanical APDL\n",
    "to apply a default mesh. For this model, however, you want to specify a\n",
    "global element size to control overall mesh density. Set global size\n",
    "control using the\n",
    "[mapdl.esize()](https://mapdl.docs.pyansys.com/version/0.67/mapdl_commands/prep7/_autosummary/ansys.mapdl.core.Mapdl.esize.html#esize) command. Set a size of $0.5$ or a slightly smaller value to\n",
    "improve the mesh.\n",
    "\n",
    "Mesh the areas using the\n",
    "[mapdl.amesh()](https://mapdl.docs.pyansys.com/version/0.67/mapdl_commands/prep7/_autosummary/ansys.mapdl.core.Mapdl.amesh.html#amesh) command. Your mesh may vary slightly from the mesh shown.\n",
    "You may see slightly different results during postprocessing.\n",
    "\n",
    "Now you can use the\n",
    "[mapdl.eplot()](https://mapdl.docs.pyansys.com/version/0.67/api/_autosummary/ansys.mapdl.core.Mapdl.eplot.html#eplot) command to see the mesh.\n"
   ]
  },
  {
   "cell_type": "code",
   "execution_count": null,
   "metadata": {
    "collapsed": false,
    "jupyter": {
     "outputs_hidden": false
    }
   },
   "outputs": [
    {
     "data": {
      "application/vnd.jupyter.widget-view+json": {
       "model_id": "6eacab37002c4feba5b367c455e01638",
       "version_major": 2,
       "version_minor": 0
      },
      "text/plain": [
       "Widget(value='<iframe src=\"http://localhost:43647/index.html?ui=P_0x7efce5871660_7&reconnect=auto\" class=\"pyvi…"
      ]
     },
     "metadata": {},
     "output_type": "display_data"
    }
   ],
   "source": [
    "element_size = 0.5\n",
    "mapdl.esize(element_size)\n",
    "mapdl.amesh(bracket)\n",
    "mapdl.eplot(\n",
    "    vtk=True,\n",
    "    cpos=\"xy\",\n",
    "    show_edges=True,\n",
    "    show_axes=False,\n",
    "    line_width=2,\n",
    "    background=\"w\",\n",
    ")"
   ]
  },
  {
   "cell_type": "markdown",
   "metadata": {},
   "source": [
    "Boundary conditions\n",
    "===================\n",
    "\n",
    "Loading is considered part of the\n",
    "[mapdl.solu()](https://mapdl.docs.pyansys.com/version/0.67/mapdl_commands/post26/_autosummary/ansys.mapdl.core.Mapdl.solu.html#solu) command or the solution processor in APDL. But it can be\n",
    "also done in the preprocessor with\n",
    "[mapdl.prep7()](https://mapdl.docs.pyansys.com/version/0.67/mapdl_commands/session/_autosummary/ansys.mapdl.core.Mapdl.prep7.html#prep7) command.\n",
    "\n",
    "You can activate the solution processor by calling the\n",
    "[mapdl.solution()](https://mapdl.docs.pyansys.com/version/0.67/api/solution.html#solution-api) class, by using the\n",
    "[mapdl.slashsolu()](https://mapdl.docs.pyansys.com/version/0.67/mapdl_commands/session/_autosummary/ansys.mapdl.core.Mapdl.slashsolu.html#slashsolu) command, or by using\n",
    "[mapdl.run(\"/solu\")](https://mapdl.docs.pyansys.com/version/0.67/api/_autosummary/ansys.mapdl.core.Mapdl.run.html#run) to call the APDL `/SOLU` command.\n"
   ]
  },
  {
   "cell_type": "code",
   "execution_count": null,
   "metadata": {
    "collapsed": false,
    "jupyter": {
     "outputs_hidden": false
    }
   },
   "outputs": [
    {
     "data": {
      "text/plain": [
       "***** ROUTINE COMPLETED *****  CP =         2.855\n",
       "\n",
       "\n",
       "\n",
       " *****  MAPDL SOLUTION ROUTINE  *****"
      ]
     },
     "execution_count": 28,
     "metadata": {},
     "output_type": "execute_result"
    }
   ],
   "source": [
    "mapdl.allsel()\n",
    "mapdl.solution()"
   ]
  },
  {
   "cell_type": "markdown",
   "metadata": {},
   "source": [
    "Set the analysis type with the\n",
    "[mapdl.antype()](https://mapdl.docs.pyansys.com/version/0.67/mapdl_commands/solution/_autosummary/ansys.mapdl.core.Mapdl.antype.html#antype) command.\n"
   ]
  },
  {
   "cell_type": "code",
   "execution_count": null,
   "metadata": {
    "collapsed": false,
    "jupyter": {
     "outputs_hidden": false
    }
   },
   "outputs": [
    {
     "data": {
      "text/plain": [
       "PERFORM A STATIC ANALYSIS\n",
       "  THIS WILL BE A NEW ANALYSIS"
      ]
     },
     "execution_count": 29,
     "metadata": {},
     "output_type": "execute_result"
    }
   ],
   "source": [
    "mapdl.antype(\"STATIC\")"
   ]
  },
  {
   "cell_type": "markdown",
   "metadata": {},
   "source": [
    "Apply displacement constraints\n",
    "==============================\n",
    "\n",
    "This is where you add boundary conditions to the model. First, you want\n",
    "to fix the model by setting a zero displacement at the first pin hole.\n",
    "You can apply displacement constraints directly to lines.\n",
    "\n",
    "To do this without the graphical interface, you would need to replot the\n",
    "lines. Or you can use Booleans and generate the lines from the pin hole\n",
    "locations/box parameters. By using the parameters that you have created,\n",
    "you can select the lines and fix one end of the bracket.\n",
    "\n",
    "Pick the four lines around the left-hand hole using the\n",
    "[mapdl.lsel()](https://mapdl.docs.pyansys.com/version/0.67/mapdl_commands/database/_autosummary/ansys.mapdl.core.Mapdl.lsel.html#lsel) command and the `pinehole1` parameters.\n",
    "\n"
   ]
  },
  {
   "cell_type": "code",
   "execution_count": null,
   "metadata": {
    "collapsed": false,
    "jupyter": {
     "outputs_hidden": false
    }
   },
   "outputs": [
    {
     "name": "stdout",
     "output_type": "stream",
     "text": [
      "Number of lines selected : 4\n"
     ]
    }
   ],
   "source": [
    "bc1 = mapdl.lsel(\n",
    "    \"S\", \"LOC\", \"X\", pinhole1_X - pinhole_radius, pinhole1_X + pinhole_radius\n",
    ")\n",
    "print(f\"Number of lines selected : {len(bc1)}\")"
   ]
  },
  {
   "cell_type": "markdown",
   "metadata": {},
   "source": [
    "Then for loading, select and apply the boundary condition to the nodes\n",
    "attached to those lines using the\n",
    "`mapdl.nsll() <ansys.mapdl.core.Mapdl.nsll>`{.interpreted-text\n",
    "role=\"meth\"} command.\n"
   ]
  },
  {
   "cell_type": "code",
   "execution_count": null,
   "metadata": {
    "collapsed": false,
    "jupyter": {
     "outputs_hidden": false
    }
   },
   "outputs": [],
   "source": [
    "fixNodes = mapdl.nsll(type_=\"S\")"
   ]
  },
  {
   "cell_type": "markdown",
   "metadata": {},
   "source": [
    "Next use the [mapdl.d()](https://mapdl.docs.pyansys.com/version/0.67/mapdl_commands/solution/_autosummary/ansys.mapdl.core.Mapdl.d.html#d) command to set the displacement to zero (fixed constraint).\n"
   ]
  },
  {
   "cell_type": "code",
   "execution_count": null,
   "metadata": {
    "collapsed": false,
    "jupyter": {
     "outputs_hidden": false
    }
   },
   "outputs": [
    {
     "data": {
      "text/plain": [
       "SELECT ALL ENTITIES OF TYPE= ALL  AND BELOW"
      ]
     },
     "execution_count": 32,
     "metadata": {},
     "output_type": "execute_result"
    }
   ],
   "source": [
    "# Set up boundary conditions\n",
    "mapdl.d(\"ALL\", \"ALL\", 0)  # The 0 is not required since default is zero\n",
    "\n",
    "# Selecting everything again\n",
    "mapdl.allsel()"
   ]
  },
  {
   "cell_type": "markdown",
   "metadata": {},
   "source": [
    "Apply pressure load\n",
    "===================\n",
    "\n",
    "Apply the tapered pressure load to the bottom-right pin hole. In this\n",
    "case, tapered means varying linearly. When a circle is created in\n",
    "Mechanical APDL, four lines define the perimeter; therefore, apply the\n",
    "pressure to two lines making up the lower half of the circle. Because\n",
    "the pressure tapers from a maximum value (500 psi) at the bottom of the\n",
    "circle to a minimum value (50 psi) at the sides, apply pressure in two\n",
    "separate steps, with reverse tapering values for each line.\n"
   ]
  },
  {
   "cell_type": "code",
   "execution_count": null,
   "metadata": {
    "collapsed": false,
    "jupyter": {
     "outputs_hidden": false
    }
   },
   "outputs": [],
   "source": [
    "p1 = 50\n",
    "p2 = 500"
   ]
  },
  {
   "cell_type": "markdown",
   "metadata": {},
   "source": [
    "The Mechanical APDL convention for pressure loading is that a positive\n",
    "load value represents pressure into the surface (compressive).\n",
    "\n",
    "To pick the line, use the same\n",
    "[mapdl.lsel()](https://mapdl.docs.pyansys.com/version/0.67/mapdl_commands/database/_autosummary/ansys.mapdl.core.Mapdl.lsel.html#lsel) command used in the previous cell block and then convert\n",
    "the lines to a nodal selection with the\n",
    "[mapdl.nsel()](https://mapdl.docs.pyansys.com/version/0.67/mapdl_commands/database/_autosummary/ansys.mapdl.core.Mapdl.nsel.html#nsel) command.\n",
    "\n",
    "Note we have a slightly more complicated picking procedure for the two\n",
    "quarters of the full circle. A method to select the lines would be to\n",
    "select the lower half of the second pinhole circle.\n"
   ]
  },
  {
   "cell_type": "code",
   "execution_count": null,
   "metadata": {
    "collapsed": false,
    "jupyter": {
     "outputs_hidden": false
    }
   },
   "outputs": [
    {
     "data": {
      "text/plain": [
       "array([11, 12], dtype=int32)"
      ]
     },
     "execution_count": 31,
     "metadata": {},
     "output_type": "execute_result"
    }
   ],
   "source": [
    "mapdl.lsel(\"S\", \"LOC\", \"Y\", pinhole2_Y - pinhole_radius, pinhole2_Y)"
   ]
  },
  {
   "cell_type": "markdown",
   "metadata": {},
   "source": [
    "Now repick from that selection the lines that are less than the X center\n",
    "of that pin hole.\n"
   ]
  },
  {
   "cell_type": "code",
   "execution_count": null,
   "metadata": {
    "collapsed": false,
    "jupyter": {
     "outputs_hidden": false
    }
   },
   "outputs": [
    {
     "data": {
      "application/vnd.jupyter.widget-view+json": {
       "model_id": "e7f789485ef545309498d33b0605bc1e",
       "version_major": 2,
       "version_minor": 0
      },
      "text/plain": [
       "Widget(value='<iframe src=\"http://localhost:45895/index.html?ui=P_0x7f4a20dc8370_9&reconnect=auto\" class=\"pyvi…"
      ]
     },
     "metadata": {},
     "output_type": "display_data"
    }
   ],
   "source": [
    "mapdl.lsel(\"R\", \"LOC\", \"X\", 0, pinhole2_X)\n",
    "\n",
    "mapdl.lplot(vtk=True, cpos=\"xy\")"
   ]
  },
  {
   "cell_type": "markdown",
   "metadata": {},
   "source": [
    "Once you have the correct line, use the\n",
    "[mapdl.sf()](https://mapdl.docs.pyansys.com/version/0.67/mapdl_commands/solution/_autosummary/ansys.mapdl.core.Mapdl.sf.html#sf)\n",
    "command to load the line with the varying surface load.\n"
   ]
  },
  {
   "cell_type": "code",
   "execution_count": null,
   "metadata": {
    "collapsed": false,
    "jupyter": {
     "outputs_hidden": false
    }
   },
   "outputs": [
    {
     "ename": "MapdlCommandIgnoredError",
     "evalue": "*** WARNING ***                         CP =       4.469   TIME= 18:08:23\n There are no elements defined.  The SF command is ignored.\n\nIgnore these messages by setting 'ignore_errors'=True",
     "output_type": "error",
     "traceback": [
      "\u001b[0;31m---------------------------------------------------------------------------\u001b[0m",
      "\u001b[0;31mMapdlCommandIgnoredError\u001b[0m                  Traceback (most recent call last)",
      "Cell \u001b[0;32mIn[33], line 2\u001b[0m\n\u001b[1;32m      1\u001b[0m \u001b[38;5;66;03m# Here you load the left side of the lower half of second pin hole.\u001b[39;00m\n\u001b[0;32m----> 2\u001b[0m \u001b[43mmapdl\u001b[49m\u001b[38;5;241;43m.\u001b[39;49m\u001b[43msf\u001b[49m\u001b[43m(\u001b[49m\u001b[38;5;124;43m\"\u001b[39;49m\u001b[38;5;124;43mALL\u001b[39;49m\u001b[38;5;124;43m\"\u001b[39;49m\u001b[43m,\u001b[49m\u001b[43m \u001b[49m\u001b[38;5;124;43m\"\u001b[39;49m\u001b[38;5;124;43mPRES\u001b[39;49m\u001b[38;5;124;43m\"\u001b[39;49m\u001b[43m,\u001b[49m\u001b[43m \u001b[49m\u001b[43mp1\u001b[49m\u001b[43m,\u001b[49m\u001b[43m \u001b[49m\u001b[43mp2\u001b[49m\u001b[43m)\u001b[49m\n\u001b[1;32m      3\u001b[0m mapdl\u001b[38;5;241m.\u001b[39mallsel()\n",
      "File \u001b[0;32m~/pymapdl/src/ansys/mapdl/core/_commands/solution/fe_surface_loads.py:76\u001b[0m, in \u001b[0;36mFeSurfaceLoads.sf\u001b[0;34m(self, nlist, lab, value, value2, **kwargs)\u001b[0m\n\u001b[1;32m     26\u001b[0m \u001b[38;5;250m\u001b[39m\u001b[38;5;124;03m\"\"\"Specifies surface loads on nodes.\u001b[39;00m\n\u001b[1;32m     27\u001b[0m \n\u001b[1;32m     28\u001b[0m \u001b[38;5;124;03mAPDL Command: SF\u001b[39;00m\n\u001b[0;32m   (...)\u001b[0m\n\u001b[1;32m     73\u001b[0m \u001b[38;5;124;03mis not unique.  A uniform load value is applied over the element face.\u001b[39;00m\n\u001b[1;32m     74\u001b[0m \u001b[38;5;124;03m\"\"\"\u001b[39;00m\n\u001b[1;32m     75\u001b[0m command \u001b[38;5;241m=\u001b[39m \u001b[38;5;124mf\u001b[39m\u001b[38;5;124m\"\u001b[39m\u001b[38;5;124mSF,\u001b[39m\u001b[38;5;132;01m{\u001b[39;00mnlist\u001b[38;5;132;01m}\u001b[39;00m\u001b[38;5;124m,\u001b[39m\u001b[38;5;132;01m{\u001b[39;00mlab\u001b[38;5;132;01m}\u001b[39;00m\u001b[38;5;124m,\u001b[39m\u001b[38;5;132;01m{\u001b[39;00mvalue\u001b[38;5;132;01m}\u001b[39;00m\u001b[38;5;124m,\u001b[39m\u001b[38;5;132;01m{\u001b[39;00mvalue2\u001b[38;5;132;01m}\u001b[39;00m\u001b[38;5;124m\"\u001b[39m\n\u001b[0;32m---> 76\u001b[0m \u001b[38;5;28;01mreturn\u001b[39;00m \u001b[38;5;28;43mself\u001b[39;49m\u001b[38;5;241;43m.\u001b[39;49m\u001b[43mrun\u001b[49m\u001b[43m(\u001b[49m\u001b[43mcommand\u001b[49m\u001b[43m,\u001b[49m\u001b[43m \u001b[49m\u001b[38;5;241;43m*\u001b[39;49m\u001b[38;5;241;43m*\u001b[39;49m\u001b[43mkwargs\u001b[49m\u001b[43m)\u001b[49m\n",
      "File \u001b[0;32m~/pymapdl/src/ansys/mapdl/core/mapdl_core.py:2236\u001b[0m, in \u001b[0;36m_MapdlCore.run\u001b[0;34m(self, command, write_to_log, mute, **kwargs)\u001b[0m\n\u001b[1;32m   2233\u001b[0m     \u001b[38;5;28;01mreturn\u001b[39;00m \u001b[38;5;28mself\u001b[39m\u001b[38;5;241m.\u001b[39m_response\n\u001b[1;32m   2235\u001b[0m \u001b[38;5;28;01mif\u001b[39;00m \u001b[38;5;129;01mnot\u001b[39;00m \u001b[38;5;28mself\u001b[39m\u001b[38;5;241m.\u001b[39mignore_errors:\n\u001b[0;32m-> 2236\u001b[0m     \u001b[38;5;28;43mself\u001b[39;49m\u001b[38;5;241;43m.\u001b[39;49m\u001b[43m_raise_errors\u001b[49m\u001b[43m(\u001b[49m\u001b[43mtext\u001b[49m\u001b[43m)\u001b[49m\n\u001b[1;32m   2238\u001b[0m \u001b[38;5;66;03m# special returns for certain geometry commands\u001b[39;00m\n\u001b[1;32m   2239\u001b[0m \u001b[38;5;28;01mif\u001b[39;00m short_cmd \u001b[38;5;129;01min\u001b[39;00m PLOT_COMMANDS:\n",
      "File \u001b[0;32m~/pymapdl/src/ansys/mapdl/core/mapdl_core.py:2686\u001b[0m, in \u001b[0;36m_MapdlCore._raise_errors\u001b[0;34m(self, text)\u001b[0m\n\u001b[1;32m   2684\u001b[0m \u001b[38;5;28;01mif\u001b[39;00m \u001b[38;5;124m\"\u001b[39m\u001b[38;5;124mcommand is ignored\u001b[39m\u001b[38;5;124m\"\u001b[39m \u001b[38;5;129;01min\u001b[39;00m flat_text:\n\u001b[1;32m   2685\u001b[0m     text \u001b[38;5;241m+\u001b[39m\u001b[38;5;241m=\u001b[39m base_error_msg\n\u001b[0;32m-> 2686\u001b[0m     \u001b[38;5;28;01mraise\u001b[39;00m MapdlCommandIgnoredError(text)\n\u001b[1;32m   2688\u001b[0m \u001b[38;5;28;01mif\u001b[39;00m (\n\u001b[1;32m   2689\u001b[0m     \u001b[38;5;124m\"\u001b[39m\u001b[38;5;124mThe component definition of\u001b[39m\u001b[38;5;124m\"\u001b[39m \u001b[38;5;129;01min\u001b[39;00m flat_text\n\u001b[1;32m   2690\u001b[0m     \u001b[38;5;129;01mand\u001b[39;00m \u001b[38;5;124m\"\u001b[39m\u001b[38;5;124mcontains no data.\u001b[39m\u001b[38;5;124m\"\u001b[39m \u001b[38;5;129;01min\u001b[39;00m flat_text\n\u001b[1;32m   2691\u001b[0m ):\n\u001b[1;32m   2692\u001b[0m     text \u001b[38;5;241m+\u001b[39m\u001b[38;5;241m=\u001b[39m base_error_msg\n",
      "\u001b[0;31mMapdlCommandIgnoredError\u001b[0m: *** WARNING ***                         CP =       4.469   TIME= 18:08:23\n There are no elements defined.  The SF command is ignored.\n\nIgnore these messages by setting 'ignore_errors'=True"
     ]
    }
   ],
   "source": [
    "# Here you load the left side of the lower half of second pin hole.\n",
    "mapdl.sf(\"ALL\", \"PRES\", p1, p2)\n",
    "mapdl.allsel()"
   ]
  },
  {
   "cell_type": "markdown",
   "metadata": {},
   "source": [
    "Repeat the procedure for the second pin hole.\n"
   ]
  },
  {
   "cell_type": "code",
   "execution_count": null,
   "metadata": {
    "collapsed": false,
    "jupyter": {
     "outputs_hidden": false
    }
   },
   "outputs": [
    {
     "data": {
      "application/vnd.jupyter.widget-view+json": {
       "model_id": "e617731eaac9414aae5fe607057eaf50",
       "version_major": 2,
       "version_minor": 0
      },
      "text/plain": [
       "Widget(value='<iframe src=\"http://localhost:43647/index.html?ui=P_0x7efcd077c0a0_9&reconnect=auto\" class=\"pyvi…"
      ]
     },
     "metadata": {},
     "output_type": "display_data"
    },
    {
     "data": {
      "text/plain": [
       "SELECT ALL ENTITIES OF TYPE= ALL  AND BELOW"
      ]
     },
     "execution_count": 37,
     "metadata": {},
     "output_type": "execute_result"
    }
   ],
   "source": [
    "mapdl.lsel(\"S\", \"LOC\", \"Y\", pinhole2_Y - pinhole_radius, pinhole2_Y)\n",
    "mapdl.lsel(\"R\", \"LOC\", \"X\", pinhole2_X, pinhole2_X + pinhole_radius)\n",
    "\n",
    "mapdl.lplot(\n",
    "    vtk=True,\n",
    "    cpos=\"xy\",\n",
    "    show_line_numbering=True,\n",
    ")\n",
    "\n",
    "mapdl.sf(\"ALL\", \"PRES\", p2, p1)\n",
    "mapdl.allsel()"
   ]
  },
  {
   "cell_type": "markdown",
   "metadata": {},
   "source": [
    "Solution\n",
    "========\n",
    "\n",
    "To solve an Ansys FE analysis, the solution processor must be activated,\n",
    "using the\n",
    "[mapdl.solution()](https://mapdl.docs.pyansys.com/version/0.67/api/solution.html#solution-api) class or the\n",
    "[mapdl.slashsolu()](https://mapdl.docs.pyansys.com/version/0.67/mapdl_commands/session/_autosummary/ansys.mapdl.core.Mapdl.slashsolu.html#slashsolu) command. This was done a few steps earlier.\n",
    "\n",
    "The model is ready to be solved using the\n",
    "[mapdl.solve()](https://mapdl.docs.pyansys.com/version/0.67/mapdl_commands/solution/_autosummary/ansys.mapdl.core.Mapdl.solve.html#solve) command.\n"
   ]
  },
  {
   "cell_type": "code",
   "execution_count": null,
   "metadata": {
    "tags": []
   },
   "outputs": [
    {
     "ename": "MapdlInvalidRoutineError",
     "evalue": "*** WARNING ***                         CP =       4.472   TIME= 18:08:23\n SOLVE is not a recognized PREP7 command, abbreviation, or macro.        \n  \n\nIgnore these messages by setting 'ignore_errors'=True",
     "output_type": "error",
     "traceback": [
      "\u001b[0;31m---------------------------------------------------------------------------\u001b[0m",
      "\u001b[0;31mMapdlInvalidRoutineError\u001b[0m                  Traceback (most recent call last)",
      "Cell \u001b[0;32mIn[34], line 2\u001b[0m\n\u001b[1;32m      1\u001b[0m \u001b[38;5;66;03m# Solve the model\u001b[39;00m\n\u001b[0;32m----> 2\u001b[0m output \u001b[38;5;241m=\u001b[39m \u001b[43mmapdl\u001b[49m\u001b[38;5;241;43m.\u001b[39;49m\u001b[43msolve\u001b[49m\u001b[43m(\u001b[49m\u001b[43m)\u001b[49m\n\u001b[1;32m      3\u001b[0m \u001b[38;5;28mprint\u001b[39m(output)\n",
      "File \u001b[0;32m~/pymapdl/src/ansys/mapdl/core/_commands/solution/analysis_options.py:3477\u001b[0m, in \u001b[0;36mAnalysisOptions.solve\u001b[0;34m(self, action, **kwargs)\u001b[0m\n\u001b[1;32m   3457\u001b[0m \u001b[38;5;250m\u001b[39m\u001b[38;5;124;03m\"\"\"Starts a solution.\u001b[39;00m\n\u001b[1;32m   3458\u001b[0m \n\u001b[1;32m   3459\u001b[0m \u001b[38;5;124;03mAPDL Command: SOLVE\u001b[39;00m\n\u001b[0;32m   (...)\u001b[0m\n\u001b[1;32m   3474\u001b[0m \u001b[38;5;124;03min the first phase of a linear perturbation analysis.\u001b[39;00m\n\u001b[1;32m   3475\u001b[0m \u001b[38;5;124;03m\"\"\"\u001b[39;00m\n\u001b[1;32m   3476\u001b[0m command \u001b[38;5;241m=\u001b[39m \u001b[38;5;124mf\u001b[39m\u001b[38;5;124m\"\u001b[39m\u001b[38;5;124mSOLVE,\u001b[39m\u001b[38;5;132;01m{\u001b[39;00maction\u001b[38;5;132;01m}\u001b[39;00m\u001b[38;5;124m\"\u001b[39m\n\u001b[0;32m-> 3477\u001b[0m \u001b[38;5;28;01mreturn\u001b[39;00m \u001b[38;5;28;43mself\u001b[39;49m\u001b[38;5;241;43m.\u001b[39;49m\u001b[43mrun\u001b[49m\u001b[43m(\u001b[49m\u001b[43mcommand\u001b[49m\u001b[43m,\u001b[49m\u001b[43m \u001b[49m\u001b[38;5;241;43m*\u001b[39;49m\u001b[38;5;241;43m*\u001b[39;49m\u001b[43mkwargs\u001b[49m\u001b[43m)\u001b[49m\n",
      "File \u001b[0;32m~/pymapdl/src/ansys/mapdl/core/mapdl_core.py:2236\u001b[0m, in \u001b[0;36m_MapdlCore.run\u001b[0;34m(self, command, write_to_log, mute, **kwargs)\u001b[0m\n\u001b[1;32m   2233\u001b[0m     \u001b[38;5;28;01mreturn\u001b[39;00m \u001b[38;5;28mself\u001b[39m\u001b[38;5;241m.\u001b[39m_response\n\u001b[1;32m   2235\u001b[0m \u001b[38;5;28;01mif\u001b[39;00m \u001b[38;5;129;01mnot\u001b[39;00m \u001b[38;5;28mself\u001b[39m\u001b[38;5;241m.\u001b[39mignore_errors:\n\u001b[0;32m-> 2236\u001b[0m     \u001b[38;5;28;43mself\u001b[39;49m\u001b[38;5;241;43m.\u001b[39;49m\u001b[43m_raise_errors\u001b[49m\u001b[43m(\u001b[49m\u001b[43mtext\u001b[49m\u001b[43m)\u001b[49m\n\u001b[1;32m   2238\u001b[0m \u001b[38;5;66;03m# special returns for certain geometry commands\u001b[39;00m\n\u001b[1;32m   2239\u001b[0m \u001b[38;5;28;01mif\u001b[39;00m short_cmd \u001b[38;5;129;01min\u001b[39;00m PLOT_COMMANDS:\n",
      "File \u001b[0;32m~/pymapdl/src/ansys/mapdl/core/mapdl_core.py:2682\u001b[0m, in \u001b[0;36m_MapdlCore._raise_errors\u001b[0;34m(self, text)\u001b[0m\n\u001b[1;32m   2680\u001b[0m     text \u001b[38;5;241m=\u001b[39m text\u001b[38;5;241m.\u001b[39mreplace(\u001b[38;5;124m\"\u001b[39m\u001b[38;5;124mThis command will be ignored.\u001b[39m\u001b[38;5;124m\"\u001b[39m, \u001b[38;5;124m\"\u001b[39m\u001b[38;5;124m\"\u001b[39m)\n\u001b[1;32m   2681\u001b[0m     text \u001b[38;5;241m+\u001b[39m\u001b[38;5;241m=\u001b[39m base_error_msg\n\u001b[0;32m-> 2682\u001b[0m     \u001b[38;5;28;01mraise\u001b[39;00m MapdlInvalidRoutineError(text)\n\u001b[1;32m   2684\u001b[0m \u001b[38;5;28;01mif\u001b[39;00m \u001b[38;5;124m\"\u001b[39m\u001b[38;5;124mcommand is ignored\u001b[39m\u001b[38;5;124m\"\u001b[39m \u001b[38;5;129;01min\u001b[39;00m flat_text:\n\u001b[1;32m   2685\u001b[0m     text \u001b[38;5;241m+\u001b[39m\u001b[38;5;241m=\u001b[39m base_error_msg\n",
      "\u001b[0;31mMapdlInvalidRoutineError\u001b[0m: *** WARNING ***                         CP =       4.472   TIME= 18:08:23\n SOLVE is not a recognized PREP7 command, abbreviation, or macro.        \n  \n\nIgnore these messages by setting 'ignore_errors'=True"
     ]
    }
   ],
   "source": [
    "# Solve the model\n",
    "output = mapdl.solve()\n",
    "print(output)"
   ]
  },
  {
   "cell_type": "markdown",
   "metadata": {},
   "source": [
    "Mechanical APDL stores the results of this single-load-step problem in\n",
    "the database and in the results file, `Jobname.RST` (or `Jobname.RTH` for\n",
    "thermal or `Jobname.RMG` for magnetic).\n",
    "The database can contain only one set of results at any given time, so\n",
    "in a multiple-load-step or multiple-substep analysis, Mechanical APDL\n",
    "stores only the final solution in the database.\n",
    "\n",
    "Mechanical APDL stores all solutions in the results file.\n",
    "\n",
    "Review the results\n",
    "==================\n",
    "\n",
    "This step represents the beginning of the postprocessing phase.\n",
    "\n",
    "**Note**\n",
    "\n",
    "The results you see may vary slightly from what is shown due to\n",
    "variations in the mesh.\n",
    "\n",
    "\n",
    "Enter the postprocessor\n",
    "-----------------------\n",
    "\n",
    "The Ansys APDL postprocessor is a separate processor called with the\n",
    "[mapdl.post1()](https://mapdl.docs.pyansys.com/version/0.67/mapdl_commands/session/_autosummary/ansys.mapdl.core.Mapdl.post1.html#post1) command.\n"
   ]
  },
  {
   "cell_type": "code",
   "execution_count": null,
   "metadata": {
    "collapsed": false,
    "jupyter": {
     "outputs_hidden": false
    }
   },
   "outputs": [
    {
     "data": {
      "text/plain": [
       "***** ROUTINE COMPLETED *****  CP =         4.473\n",
       "\n",
       "\n",
       "\n",
       " *** MAPDL - ENGINEERING ANALYSIS SYSTEM  RELEASE                  24.1     ***\n",
       " Ansys Mechanical Enterprise Academic Student      \n",
       " 01055371  VERSION=LINUX x64     18:08:24  JAN 30, 2024 CP=      4.475\n",
       "\n",
       "                                                                               \n",
       "\n",
       "\n",
       "\n",
       "          ***** MAPDL RESULTS INTERPRETATION (POST1) *****\n",
       "\n",
       " *** NOTE ***                            CP =       4.475   TIME= 18:08:24\n",
       " Reading results into the database (SET command) will update the current \n",
       " displacement and force boundary conditions in the database with the     \n",
       " values from the results file for that load set.  Note that any          \n",
       " subsequent solutions will use these values unless action is taken to    \n",
       " either SAVE the current values or not overwrite them (/EXIT,NOSAVE)."
      ]
     },
     "execution_count": 35,
     "metadata": {},
     "output_type": "execute_result"
    }
   ],
   "source": [
    "mapdl.post1()"
   ]
  },
  {
   "cell_type": "markdown",
   "metadata": {},
   "source": [
    "Plot the deformed shape\n",
    "=======================\n",
    "\n",
    "Here [mapdl.result](https://mapdl.docs.pyansys.com/version/0.67/api/_autosummary/ansys.mapdl.core.Mapdl.result.html#result) is used to retrieve the results and for plotting.\n"
   ]
  },
  {
   "cell_type": "code",
   "execution_count": null,
   "metadata": {
    "collapsed": false,
    "jupyter": {
     "outputs_hidden": false
    }
   },
   "outputs": [
    {
     "ename": "FileNotFoundError",
     "evalue": "No result file(s) at /tmp/ansys_ikvchwikhk",
     "output_type": "error",
     "traceback": [
      "\u001b[0;31m---------------------------------------------------------------------------\u001b[0m",
      "\u001b[0;31mFileNotFoundError\u001b[0m                         Traceback (most recent call last)",
      "Cell \u001b[0;32mIn[36], line 2\u001b[0m\n\u001b[1;32m      1\u001b[0m \u001b[38;5;66;03m# Plot displacement\u001b[39;00m\n\u001b[0;32m----> 2\u001b[0m result \u001b[38;5;241m=\u001b[39m \u001b[43mmapdl\u001b[49m\u001b[38;5;241;43m.\u001b[39;49m\u001b[43mresult\u001b[49m\n\u001b[1;32m      3\u001b[0m result_set \u001b[38;5;241m=\u001b[39m \u001b[38;5;241m0\u001b[39m  \u001b[38;5;66;03m# Plotting the first results\u001b[39;00m\n\u001b[1;32m      4\u001b[0m disp_fact \u001b[38;5;241m=\u001b[39m \u001b[38;5;241m1e10\u001b[39m\n",
      "File \u001b[0;32m~/pymapdl/src/ansys/mapdl/core/misc.py:1140\u001b[0m, in \u001b[0;36mrequires_package.<locals>.decorator.<locals>.wrapper\u001b[0;34m(self, *args, **kwargs)\u001b[0m\n\u001b[1;32m   1138\u001b[0m \u001b[38;5;28;01mtry\u001b[39;00m:\n\u001b[1;32m   1139\u001b[0m     importlib\u001b[38;5;241m.\u001b[39mimport_module(package_name)\n\u001b[0;32m-> 1140\u001b[0m     \u001b[38;5;28;01mreturn\u001b[39;00m \u001b[43mfunction\u001b[49m\u001b[43m(\u001b[49m\u001b[38;5;28;43mself\u001b[39;49m\u001b[43m,\u001b[49m\u001b[43m \u001b[49m\u001b[38;5;241;43m*\u001b[39;49m\u001b[43margs\u001b[49m\u001b[43m,\u001b[49m\u001b[43m \u001b[49m\u001b[38;5;241;43m*\u001b[39;49m\u001b[38;5;241;43m*\u001b[39;49m\u001b[43mkwargs\u001b[49m\u001b[43m)\u001b[49m\n\u001b[1;32m   1142\u001b[0m \u001b[38;5;28;01mexcept\u001b[39;00m \u001b[38;5;167;01mModuleNotFoundError\u001b[39;00m:\n\u001b[1;32m   1143\u001b[0m     msg \u001b[38;5;241m=\u001b[39m (\n\u001b[1;32m   1144\u001b[0m         \u001b[38;5;124mf\u001b[39m\u001b[38;5;124m\"\u001b[39m\u001b[38;5;124mTo use the method \u001b[39m\u001b[38;5;124m'\u001b[39m\u001b[38;5;132;01m{\u001b[39;00mfunction\u001b[38;5;241m.\u001b[39m\u001b[38;5;18m__name__\u001b[39m\u001b[38;5;132;01m}\u001b[39;00m\u001b[38;5;124m'\u001b[39m\u001b[38;5;124m, \u001b[39m\u001b[38;5;124m\"\u001b[39m\n\u001b[1;32m   1145\u001b[0m         \u001b[38;5;124mf\u001b[39m\u001b[38;5;124m\"\u001b[39m\u001b[38;5;124mthe package \u001b[39m\u001b[38;5;124m'\u001b[39m\u001b[38;5;132;01m{\u001b[39;00mpackage_name\u001b[38;5;132;01m}\u001b[39;00m\u001b[38;5;124m'\u001b[39m\u001b[38;5;124m is required.\u001b[39m\u001b[38;5;130;01m\\n\u001b[39;00m\u001b[38;5;124m\"\u001b[39m\n\u001b[1;32m   1146\u001b[0m         \u001b[38;5;124mf\u001b[39m\u001b[38;5;124m\"\u001b[39m\u001b[38;5;124mPlease try to install \u001b[39m\u001b[38;5;124m'\u001b[39m\u001b[38;5;132;01m{\u001b[39;00mpackage_name\u001b[38;5;132;01m}\u001b[39;00m\u001b[38;5;124m'\u001b[39m\u001b[38;5;124m with:\u001b[39m\u001b[38;5;130;01m\\n\u001b[39;00m\u001b[38;5;124m\"\u001b[39m\n\u001b[1;32m   1147\u001b[0m         \u001b[38;5;124mf\u001b[39m\u001b[38;5;124m\"\u001b[39m\u001b[38;5;124mpip install \u001b[39m\u001b[38;5;132;01m{\u001b[39;00mpackage_name\u001b[38;5;241m.\u001b[39mreplace(\u001b[38;5;124m'\u001b[39m\u001b[38;5;124m.\u001b[39m\u001b[38;5;124m'\u001b[39m,\u001b[38;5;250m \u001b[39m\u001b[38;5;124m'\u001b[39m\u001b[38;5;124m-\u001b[39m\u001b[38;5;124m'\u001b[39m)\u001b[38;5;250m \u001b[39m\u001b[38;5;28;01mif\u001b[39;00m\u001b[38;5;250m \u001b[39m\u001b[38;5;124m'\u001b[39m\u001b[38;5;124mansys\u001b[39m\u001b[38;5;124m'\u001b[39m\u001b[38;5;250m \u001b[39m\u001b[38;5;129;01min\u001b[39;00m\u001b[38;5;250m \u001b[39mpackage_name\u001b[38;5;250m \u001b[39m\u001b[38;5;28;01melse\u001b[39;00m\u001b[38;5;250m \u001b[39mpackage_name\u001b[38;5;132;01m}\u001b[39;00m\u001b[38;5;124m\"\u001b[39m\n\u001b[1;32m   1148\u001b[0m     )\n",
      "File \u001b[0;32m~/pymapdl/src/ansys/mapdl/core/mapdl_core.py:1050\u001b[0m, in \u001b[0;36m_MapdlCore.result\u001b[0;34m(self)\u001b[0m\n\u001b[1;32m   1047\u001b[0m         result_path \u001b[38;5;241m=\u001b[39m \u001b[38;5;28mself\u001b[39m\u001b[38;5;241m.\u001b[39m_result_file\n\u001b[1;32m   1049\u001b[0m \u001b[38;5;28;01mif\u001b[39;00m result_path \u001b[38;5;129;01mis\u001b[39;00m \u001b[38;5;28;01mNone\u001b[39;00m:\n\u001b[0;32m-> 1050\u001b[0m     \u001b[38;5;28;01mraise\u001b[39;00m \u001b[38;5;167;01mFileNotFoundError\u001b[39;00m(\u001b[38;5;124m\"\u001b[39m\u001b[38;5;124mNo result file(s) at \u001b[39m\u001b[38;5;132;01m%s\u001b[39;00m\u001b[38;5;124m\"\u001b[39m \u001b[38;5;241m%\u001b[39m \u001b[38;5;28mself\u001b[39m\u001b[38;5;241m.\u001b[39mdirectory)\n\u001b[1;32m   1051\u001b[0m \u001b[38;5;28;01mif\u001b[39;00m \u001b[38;5;129;01mnot\u001b[39;00m os\u001b[38;5;241m.\u001b[39mpath\u001b[38;5;241m.\u001b[39misfile(result_path):\n\u001b[1;32m   1052\u001b[0m     \u001b[38;5;28;01mraise\u001b[39;00m \u001b[38;5;167;01mFileNotFoundError\u001b[39;00m(\u001b[38;5;124m\"\u001b[39m\u001b[38;5;124mNo results found at \u001b[39m\u001b[38;5;132;01m%s\u001b[39;00m\u001b[38;5;124m\"\u001b[39m \u001b[38;5;241m%\u001b[39m result_path)\n",
      "\u001b[0;31mFileNotFoundError\u001b[0m: No result file(s) at /tmp/ansys_ikvchwikhk"
     ]
    }
   ],
   "source": [
    "# Plot displacement\n",
    "result = mapdl.result\n",
    "result_set = 0  # Plotting the first results\n",
    "disp_fact = 1e10\n",
    "result.plot_nodal_displacement(\n",
    "    result_set,\n",
    "    cpos=\"xy\",\n",
    "    displacement_factor=5,\n",
    "    show_displacement=True,\n",
    "    show_edges=True,\n",
    ")"
   ]
  },
  {
   "cell_type": "markdown",
   "metadata": {},
   "source": [
    "Plot the von Misses equivalent stress\n",
    "=====================================\n",
    "\n",
    "You can also generate stress plots using the\n",
    "[mapdl.post_processing.plot_principal_nodal_stress()](https://mapdl.docs.pyansys.com/version/0.67/api/_autosummary/ansys.mapdl.core.post.PostProcessing.plot_nodal_principal_stress.html#plot-nodal-principal-stress) command.\n"
   ]
  },
  {
   "cell_type": "code",
   "execution_count": null,
   "metadata": {
    "collapsed": false,
    "jupyter": {
     "outputs_hidden": false
    }
   },
   "outputs": [
    {
     "ename": "NameError",
     "evalue": "name 'result' is not defined",
     "output_type": "error",
     "traceback": [
      "\u001b[0;31m---------------------------------------------------------------------------\u001b[0m",
      "\u001b[0;31mNameError\u001b[0m                                 Traceback (most recent call last)",
      "Cell \u001b[0;32mIn[37], line 1\u001b[0m\n\u001b[0;32m----> 1\u001b[0m \u001b[43mresult\u001b[49m\u001b[38;5;241m.\u001b[39mplot_principal_nodal_stress(\n\u001b[1;32m      2\u001b[0m     \u001b[38;5;241m0\u001b[39m,\n\u001b[1;32m      3\u001b[0m     \u001b[38;5;124m\"\u001b[39m\u001b[38;5;124mSEQV\u001b[39m\u001b[38;5;124m\"\u001b[39m,\n\u001b[1;32m      4\u001b[0m     cpos\u001b[38;5;241m=\u001b[39m\u001b[38;5;124m\"\u001b[39m\u001b[38;5;124mxy\u001b[39m\u001b[38;5;124m\"\u001b[39m,\n\u001b[1;32m      5\u001b[0m     background\u001b[38;5;241m=\u001b[39m\u001b[38;5;124m\"\u001b[39m\u001b[38;5;124mw\u001b[39m\u001b[38;5;124m\"\u001b[39m,\n\u001b[1;32m      6\u001b[0m     text_color\u001b[38;5;241m=\u001b[39m\u001b[38;5;124m\"\u001b[39m\u001b[38;5;124mk\u001b[39m\u001b[38;5;124m\"\u001b[39m,\n\u001b[1;32m      7\u001b[0m     add_text\u001b[38;5;241m=\u001b[39m\u001b[38;5;28;01mTrue\u001b[39;00m,\n\u001b[1;32m      8\u001b[0m     show_edges\u001b[38;5;241m=\u001b[39m\u001b[38;5;28;01mTrue\u001b[39;00m,\n\u001b[1;32m      9\u001b[0m )\n",
      "\u001b[0;31mNameError\u001b[0m: name 'result' is not defined"
     ]
    }
   ],
   "source": [
    "result.plot_principal_nodal_stress(\n",
    "    0,\n",
    "    \"SEQV\",\n",
    "    cpos=\"xy\",\n",
    "    background=\"w\",\n",
    "    text_color=\"k\",\n",
    "    add_text=True,\n",
    "    show_edges=True,\n",
    ")"
   ]
  },
  {
   "cell_type": "markdown",
   "metadata": {},
   "source": [
    "Obtain von Mises stresses.\n"
   ]
  },
  {
   "cell_type": "code",
   "execution_count": null,
   "metadata": {
    "collapsed": false,
    "jupyter": {
     "outputs_hidden": false
    }
   },
   "outputs": [
    {
     "ename": "NameError",
     "evalue": "name 'result' is not defined",
     "output_type": "error",
     "traceback": [
      "\u001b[0;31m---------------------------------------------------------------------------\u001b[0m",
      "\u001b[0;31mNameError\u001b[0m                                 Traceback (most recent call last)",
      "Cell \u001b[0;32mIn[38], line 1\u001b[0m\n\u001b[0;32m----> 1\u001b[0m nnum, stress \u001b[38;5;241m=\u001b[39m \u001b[43mresult\u001b[49m\u001b[38;5;241m.\u001b[39mprincipal_nodal_stress(\u001b[38;5;241m0\u001b[39m)\n\u001b[1;32m      3\u001b[0m \u001b[38;5;66;03m# Von Mises stress is the last column in the stress results\u001b[39;00m\n\u001b[1;32m      4\u001b[0m von_mises \u001b[38;5;241m=\u001b[39m stress[:, \u001b[38;5;241m-\u001b[39m\u001b[38;5;241m1\u001b[39m]\n",
      "\u001b[0;31mNameError\u001b[0m: name 'result' is not defined"
     ]
    }
   ],
   "source": [
    "nnum, stress = result.principal_nodal_stress(0)\n",
    "\n",
    "# Von Mises stress is the last column in the stress results\n",
    "von_mises = stress[:, -1]"
   ]
  },
  {
   "cell_type": "markdown",
   "metadata": {},
   "source": [
    "List reaction solution\n",
    "======================\n",
    "\n",
    "To list the FY reactions forces use the APDL\n",
    "[mapdl.prrsol()](https://mapdl.docs.pyansys.com/version/0.67/mapdl_commands/post1/_autosummary/ansys.mapdl.core.Mapdl.prrsol.html#prrsol) command which print the constrained node reaction solution.\n",
    "\n",
    "You can use the\n",
    "[to_dataframe](https://mapdl.docs.pyansys.com/version/0.67/api/commands.html#ansys.mapdl.core.commands.CommandListingOutput) command to convert the output to a Dataframe for more\n",
    "static print:\n"
   ]
  },
  {
   "cell_type": "code",
   "execution_count": null,
   "metadata": {
    "collapsed": false,
    "jupyter": {
     "outputs_hidden": false
    }
   },
   "outputs": [
    {
     "ename": "MapdlCommandIgnoredError",
     "evalue": "PRINT FY   REACTION SOLUTIONS PER NODE\n\n *** WARNING ***                         CP =       4.484   TIME= 18:08:25\n The geometry is not available.  The PRRSOL command is ignored.\n\nIgnore these messages by setting 'ignore_errors'=True",
     "output_type": "error",
     "traceback": [
      "\u001b[0;31m---------------------------------------------------------------------------\u001b[0m",
      "\u001b[0;31mMapdlCommandIgnoredError\u001b[0m                  Traceback (most recent call last)",
      "Cell \u001b[0;32mIn[39], line 1\u001b[0m\n\u001b[0;32m----> 1\u001b[0m reactForces \u001b[38;5;241m=\u001b[39m \u001b[43mmapdl\u001b[49m\u001b[38;5;241;43m.\u001b[39;49m\u001b[43mprrsol\u001b[49m\u001b[43m(\u001b[49m\u001b[43mlab\u001b[49m\u001b[38;5;241;43m=\u001b[39;49m\u001b[38;5;124;43m\"\u001b[39;49m\u001b[38;5;124;43mFY\u001b[39;49m\u001b[38;5;124;43m\"\u001b[39;49m\u001b[43m)\u001b[49m\u001b[38;5;241m.\u001b[39mto_dataframe(columns\u001b[38;5;241m=\u001b[39m[\u001b[38;5;124m\"\u001b[39m\u001b[38;5;124mNODE\u001b[39m\u001b[38;5;124m\"\u001b[39m, \u001b[38;5;124m\"\u001b[39m\u001b[38;5;124mFY\u001b[39m\u001b[38;5;124m\"\u001b[39m])\n\u001b[1;32m      2\u001b[0m \u001b[38;5;28mprint\u001b[39m(reactForces)\n",
      "File \u001b[0;32m~/pymapdl/src/ansys/mapdl/core/mapdl_core.py:1228\u001b[0m, in \u001b[0;36m_MapdlCore._wrap_listing_functions.<locals>.wrap_listing_function.<locals>.inner_wrapper\u001b[0;34m(*args, **kwargs)\u001b[0m\n\u001b[1;32m   1226\u001b[0m \u001b[38;5;129m@wraps\u001b[39m(func)\n\u001b[1;32m   1227\u001b[0m \u001b[38;5;28;01mdef\u001b[39;00m \u001b[38;5;21minner_wrapper\u001b[39m(\u001b[38;5;241m*\u001b[39margs, \u001b[38;5;241m*\u001b[39m\u001b[38;5;241m*\u001b[39mkwargs):\n\u001b[0;32m-> 1228\u001b[0m     \u001b[38;5;28;01mreturn\u001b[39;00m CommandListingOutput(\u001b[43mfunc\u001b[49m\u001b[43m(\u001b[49m\u001b[38;5;241;43m*\u001b[39;49m\u001b[43margs\u001b[49m\u001b[43m,\u001b[49m\u001b[43m \u001b[49m\u001b[38;5;241;43m*\u001b[39;49m\u001b[38;5;241;43m*\u001b[39;49m\u001b[43mkwargs\u001b[49m\u001b[43m)\u001b[49m)\n",
      "File \u001b[0;32m~/pymapdl/src/ansys/mapdl/core/_commands/post1_/results.py:948\u001b[0m, in \u001b[0;36mResults.prrsol\u001b[0;34m(self, lab, **kwargs)\u001b[0m\n\u001b[1;32m    912\u001b[0m \u001b[38;5;250m\u001b[39m\u001b[38;5;124;03m\"\"\"Prints the constrained node reaction solution.\u001b[39;00m\n\u001b[1;32m    913\u001b[0m \n\u001b[1;32m    914\u001b[0m \u001b[38;5;124;03mAPDL Command: PRRSOL\u001b[39;00m\n\u001b[0;32m   (...)\u001b[0m\n\u001b[1;32m    945\u001b[0m \u001b[38;5;124;03mstatic, damping, or inertial components.\u001b[39;00m\n\u001b[1;32m    946\u001b[0m \u001b[38;5;124;03m\"\"\"\u001b[39;00m\n\u001b[1;32m    947\u001b[0m command \u001b[38;5;241m=\u001b[39m \u001b[38;5;124mf\u001b[39m\u001b[38;5;124m\"\u001b[39m\u001b[38;5;124mPRRSOL,\u001b[39m\u001b[38;5;132;01m{\u001b[39;00mlab\u001b[38;5;132;01m}\u001b[39;00m\u001b[38;5;124m\"\u001b[39m\n\u001b[0;32m--> 948\u001b[0m \u001b[38;5;28;01mreturn\u001b[39;00m \u001b[38;5;28;43mself\u001b[39;49m\u001b[38;5;241;43m.\u001b[39;49m\u001b[43mrun\u001b[49m\u001b[43m(\u001b[49m\u001b[43mcommand\u001b[49m\u001b[43m,\u001b[49m\u001b[43m \u001b[49m\u001b[38;5;241;43m*\u001b[39;49m\u001b[38;5;241;43m*\u001b[39;49m\u001b[43mkwargs\u001b[49m\u001b[43m)\u001b[49m\n",
      "File \u001b[0;32m~/pymapdl/src/ansys/mapdl/core/mapdl_core.py:2236\u001b[0m, in \u001b[0;36m_MapdlCore.run\u001b[0;34m(self, command, write_to_log, mute, **kwargs)\u001b[0m\n\u001b[1;32m   2233\u001b[0m     \u001b[38;5;28;01mreturn\u001b[39;00m \u001b[38;5;28mself\u001b[39m\u001b[38;5;241m.\u001b[39m_response\n\u001b[1;32m   2235\u001b[0m \u001b[38;5;28;01mif\u001b[39;00m \u001b[38;5;129;01mnot\u001b[39;00m \u001b[38;5;28mself\u001b[39m\u001b[38;5;241m.\u001b[39mignore_errors:\n\u001b[0;32m-> 2236\u001b[0m     \u001b[38;5;28;43mself\u001b[39;49m\u001b[38;5;241;43m.\u001b[39;49m\u001b[43m_raise_errors\u001b[49m\u001b[43m(\u001b[49m\u001b[43mtext\u001b[49m\u001b[43m)\u001b[49m\n\u001b[1;32m   2238\u001b[0m \u001b[38;5;66;03m# special returns for certain geometry commands\u001b[39;00m\n\u001b[1;32m   2239\u001b[0m \u001b[38;5;28;01mif\u001b[39;00m short_cmd \u001b[38;5;129;01min\u001b[39;00m PLOT_COMMANDS:\n",
      "File \u001b[0;32m~/pymapdl/src/ansys/mapdl/core/mapdl_core.py:2686\u001b[0m, in \u001b[0;36m_MapdlCore._raise_errors\u001b[0;34m(self, text)\u001b[0m\n\u001b[1;32m   2684\u001b[0m \u001b[38;5;28;01mif\u001b[39;00m \u001b[38;5;124m\"\u001b[39m\u001b[38;5;124mcommand is ignored\u001b[39m\u001b[38;5;124m\"\u001b[39m \u001b[38;5;129;01min\u001b[39;00m flat_text:\n\u001b[1;32m   2685\u001b[0m     text \u001b[38;5;241m+\u001b[39m\u001b[38;5;241m=\u001b[39m base_error_msg\n\u001b[0;32m-> 2686\u001b[0m     \u001b[38;5;28;01mraise\u001b[39;00m MapdlCommandIgnoredError(text)\n\u001b[1;32m   2688\u001b[0m \u001b[38;5;28;01mif\u001b[39;00m (\n\u001b[1;32m   2689\u001b[0m     \u001b[38;5;124m\"\u001b[39m\u001b[38;5;124mThe component definition of\u001b[39m\u001b[38;5;124m\"\u001b[39m \u001b[38;5;129;01min\u001b[39;00m flat_text\n\u001b[1;32m   2690\u001b[0m     \u001b[38;5;129;01mand\u001b[39;00m \u001b[38;5;124m\"\u001b[39m\u001b[38;5;124mcontains no data.\u001b[39m\u001b[38;5;124m\"\u001b[39m \u001b[38;5;129;01min\u001b[39;00m flat_text\n\u001b[1;32m   2691\u001b[0m ):\n\u001b[1;32m   2692\u001b[0m     text \u001b[38;5;241m+\u001b[39m\u001b[38;5;241m=\u001b[39m base_error_msg\n",
      "\u001b[0;31mMapdlCommandIgnoredError\u001b[0m: PRINT FY   REACTION SOLUTIONS PER NODE\n\n *** WARNING ***                         CP =       4.484   TIME= 18:08:25\n The geometry is not available.  The PRRSOL command is ignored.\n\nIgnore these messages by setting 'ignore_errors'=True"
     ]
    }
   ],
   "source": [
    "reactForces = mapdl.prrsol(lab=\"FY\").to_dataframe(columns=[\"NODE\", \"FY\"])\n",
    "print(reactForces)"
   ]
  },
  {
   "cell_type": "markdown",
   "metadata": {},
   "source": [
    "The values shown are representative and may vary from the values that\n",
    "you obtain. Many other options are available for reviewing results in\n",
    "the general postprocessor. You can see some of these other options in\n",
    "other tutorials, such. as the [Ansys tutorial guide]().\n"
   ]
  },
  {
   "cell_type": "markdown",
   "metadata": {},
   "source": [
    "Exit Mechanical APDL\n",
    "====================\n",
    "\n",
    "Exit Mechanical APDL once you have finished.\n"
   ]
  },
  {
   "cell_type": "code",
   "execution_count": null,
   "metadata": {
    "collapsed": false,
    "jupyter": {
     "outputs_hidden": false
    }
   },
   "outputs": [],
   "source": [
    "mapdl.exit()"
   ]
  }
 ],
 "metadata": {
  "kernelspec": {
   "display_name": "Python 3 (ipykernel)",
   "language": "python",
   "name": "python3"
  },
  "language_info": {
   "codemirror_mode": {
    "name": "ipython",
    "version": 3
   },
   "file_extension": ".py",
   "mimetype": "text/x-python",
   "name": "python",
   "nbconvert_exporter": "python",
   "pygments_lexer": "ipython3",
   "version": "3.10.12"
  },
  "widgets": {
   "application/vnd.jupyter.widget-state+json": {
    "state": {},
    "version_major": 2,
    "version_minor": 0
   }
  }
 },
 "nbformat": 4,
 "nbformat_minor": 4
}
